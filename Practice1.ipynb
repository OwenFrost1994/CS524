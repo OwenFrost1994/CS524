{
 "cells": [
  {
   "cell_type": "markdown",
   "metadata": {},
   "source": [
    "# 1.2  LP Basics"
   ]
  },
  {
   "cell_type": "markdown",
   "metadata": {},
   "source": [
    "# Farmer Jane problem"
   ]
  },
  {
   "cell_type": "markdown",
   "metadata": {},
   "source": [
    "The solution of this problem in Julia is list below.\n",
    "The mathematical modelling is shown in scanned picture and graphic solution."
   ]
  },
  {
   "cell_type": "code",
   "execution_count": 1,
   "metadata": {},
   "outputs": [],
   "source": [
    "using JuMP, Clp\n",
    "\n",
    "m = Model()\n",
    "\n",
    "@variable(m, x1 >= 0)\n",
    "@variable(m, x2 >= 0)\n",
    "\n",
    "@objective(m, Max, 200*x1 + 300*x2)\n",
    "\n",
    "@constraint(m, worker,  3*x1 + 2*x2 <= 100)\n",
    "\n",
    "@constraint(m, fertilizer,  2*x1 + 4*x2 <= 120)\n",
    "\n",
    "@constraint(m, area, x1 + x2 <= 45)\n",
    ";"
   ]
  },
  {
   "cell_type": "code",
   "execution_count": 2,
   "metadata": {},
   "outputs": [
    {
     "name": "stdout",
     "output_type": "stream",
     "text": [
      "Time used by Clp:\n",
      " 19.712441 seconds (45.15 M allocations: 2.226 GiB, 8.72% gc time)\n",
      "Wheat area19.99999999999999acres.\n",
      "Corn area20.000000000000007acres.\n",
      "Total profit will be $10000.0\n",
      "Coin0506I Presolve 3 (0) rows, 2 (0) columns and 6 (0) elements\n",
      "Clp0006I 0  Obj 0 Dual inf 500 (2)\n",
      "Clp0006I 3  Obj 10000\n",
      "Clp0000I Optimal - objective value 10000\n",
      "Clp0032I Optimal objective 10000 - 3 iterations time 0.002\n"
     ]
    }
   ],
   "source": [
    "println(\"Time used by Clp:\")\n",
    "\n",
    "set_optimizer(m, Clp.Optimizer)\n",
    "\n",
    "@time(optimize!(m))\n",
    "\n",
    "println(\"Wheat area\", value(x1), \"acres.\")\n",
    "println(\"Corn area\", value(x2), \"acres.\")\n",
    "println(\"Total profit will be \\$\", objective_value(m))"
   ]
  },
  {
   "cell_type": "markdown",
   "metadata": {},
   "source": [
    "# Top Brass problem"
   ]
  },
  {
   "cell_type": "markdown",
   "metadata": {},
   "source": [
    "# Base"
   ]
  },
  {
   "cell_type": "code",
   "execution_count": 3,
   "metadata": {},
   "outputs": [],
   "source": [
    "using JuMP, Clp\n",
    "\n",
    "m = Model()\n",
    "\n",
    "@variable(m, ft >= 0)\n",
    "@variable(m, st >= 0)\n",
    "@variable(m, kt >= 0)\n",
    "\n",
    "@objective(m, Max, 12*ft + 9*st + 10*kt)\n",
    "\n",
    "@constraint(m, wood_con, 4ft + 2st + 3*kt <= 4800)\n",
    "\n",
    "@constraint(m, plaque_con, ft + st + kt<= 1750)\n",
    "\n",
    "# constraints on brass footballs, soccerballs available\n",
    "@constraint(m, brass_football_con, ft <= 1000)\n",
    "@constraint(m, brass_soccerball_con, st <= 1500)\n",
    "@constraint(m, brass_karate_con, kt <= 750)\n",
    "; "
   ]
  },
  {
   "cell_type": "code",
   "execution_count": 4,
   "metadata": {},
   "outputs": [
    {
     "name": "stdout",
     "output_type": "stream",
     "text": [
      "Time to solve this model using Clp: \n",
      "  0.001266 seconds (1.73 k allocations: 114.391 KiB)\n",
      "Build 650.0 football trophies.\n",
      "Build 1100.0 soccer trophies.\n",
      "Build 0.0 karate trophies.\n",
      "Total profit will be $17700.0\n",
      "Coin0506I Presolve 2 (-3) rows, 3 (0) columns and 6 (-3) elements\n",
      "Clp0006I 0  Obj -0 Dual inf 30.999997 (3)\n",
      "Clp0006I 2  Obj 17700\n",
      "Clp0000I Optimal - objective value 17700\n",
      "Coin0511I After Postsolve, objective 17700, infeasibilities - dual 0 (0), primal 0 (0)\n",
      "Clp0032I Optimal objective 17700 - 2 iterations time 0.002, Presolve 0.00\n"
     ]
    }
   ],
   "source": [
    "println(\"Time to solve this model using Clp: \")\n",
    "\n",
    "set_optimizer(m, Clp.Optimizer)\n",
    "\n",
    "@time(optimize!(m))\n",
    "\n",
    "println(\"Build \", value(ft), \" football trophies.\")\n",
    "println(\"Build \", value(st), \" soccer trophies.\")\n",
    "println(\"Build \", value(kt), \" karate trophies.\")\n",
    "println(\"Total profit will be \\$\", objective_value(m))"
   ]
  },
  {
   "cell_type": "markdown",
   "metadata": {},
   "source": [
    "# Modular"
   ]
  },
  {
   "cell_type": "code",
   "execution_count": 7,
   "metadata": {},
   "outputs": [],
   "source": [
    "trophy_types = [:football, :soccer, :karate] # these are the possible trophy types\n",
    "\n",
    "wood_req = Dict(:football => 4, :soccer => 2, :karate =>3) # how much wood each trophy type will use\n",
    "\n",
    "plaque_req = Dict(:football => 1, :soccer => 1, :karate => 1) # how many plaques each trophy type will use\n",
    "\n",
    "profit = Dict( :football => 12, :soccer => 9, :karate => 10) # profit produced by each trophy type\n",
    "\n",
    "wood_avail = 4800\n",
    "plaques_avail = 1750\n",
    "football_avail = 1000\n",
    "soccer_avail = 1500\n",
    "karate_avail = 750;"
   ]
  },
  {
   "cell_type": "code",
   "execution_count": 8,
   "metadata": {},
   "outputs": [
    {
     "name": "stdout",
     "output_type": "stream",
     "text": [
      "1-dimensional DenseAxisArray{Float64,1,...} with index sets:\n",
      "    Dimension 1, [:football, :soccer, :karate]\n",
      "And data, a 3-element Array{Float64,1}:\n",
      "  650.0\n",
      " 1100.0\n",
      "    0.0\n",
      "Total profit will be $17700.0\n",
      "We will use 4800.0 board feet of wood\n",
      "We will use 1750.0 plaques\n",
      "Coin0506I Presolve 2 (-3) rows, 3 (0) columns and 6 (-3) elements\n",
      "Clp0006I 0  Obj -0 Dual inf 30.999997 (3)\n",
      "Clp0006I 2  Obj 17700\n",
      "Clp0000I Optimal - objective value 17700\n",
      "Coin0511I After Postsolve, objective 17700, infeasibilities - dual 0 (0), primal 0 (0)\n",
      "Clp0032I Optimal objective 17700 - 2 iterations time 0.002, Presolve 0.00\n"
     ]
    }
   ],
   "source": [
    "using JuMP, Clp\n",
    "\n",
    "m = Model(Clp.Optimizer)\n",
    "\n",
    "@variable(m, trophy[trophy_types] >= 0)\n",
    "\n",
    "@objective(m, Max, sum(profit[i] * trophy[i] for i in trophy_types) )   \n",
    "\n",
    "@constraint(m, sum(wood_req[i] * trophy[i] for i in trophy_types) <= wood_avail)\n",
    "@constraint(m, sum(plaque_req[i] * trophy[i] for i in trophy_types) <= plaques_avail)\n",
    "@constraint(m, trophy[:football] <= football_avail)\n",
    "@constraint(m, trophy[:soccer] <= soccer_avail)\n",
    "@constraint(m, trophy[:karate] <= karate_avail)\n",
    "\n",
    "status = optimize!(m)\n",
    "\n",
    "println(value.(trophy))\n",
    "# note the output is quite ugly. we'll see how to make it look nicer soon.\n",
    "println(\"Total profit will be \\$\", objective_value(m))\n",
    "println(\"We will use \", value(sum(wood_req[i] * trophy[i] for i in trophy_types) ), \" board feet of wood\")\n",
    "println(\"We will use \", value(sum(plaque_req[i] * trophy[i] for i in trophy_types) ), \" plaques\")"
   ]
  },
  {
   "cell_type": "markdown",
   "metadata": {},
   "source": [
    "# Compact"
   ]
  },
  {
   "cell_type": "code",
   "execution_count": 9,
   "metadata": {},
   "outputs": [
    {
     "data": {
      "text/plain": [
       "3×5 Named Array{Int64,2}\n",
       "type ╲ resource │           :wood  …    :brass_karate\n",
       "────────────────┼────────────────────────────────────\n",
       ":football       │               4  …                0\n",
       ":soccer         │               2                   0\n",
       ":karate         │               3  …                1"
      ]
     },
     "execution_count": 9,
     "metadata": {},
     "output_type": "execute_result"
    }
   ],
   "source": [
    "trophy_types = [:football, :soccer, :karate]\n",
    "\n",
    "resources = [:wood, :plaques, :brass_football, :brass_soccer, :brass_karate]\n",
    "\n",
    "profit = Dict( zip(trophy_types, [12, 9, 10]))\n",
    "\n",
    "resource_avail = Dict( zip(resources, [4800, 1750, 1000, 1500, 750] ) );\n",
    "\n",
    "using NamedArrays\n",
    "\n",
    "trophy_resource_matrix = [4 1 1 0 0\n",
    "                          2 1 0 1 0\n",
    "                          3 1 0 0 1]\n",
    "\n",
    "trophy_resource_NA = NamedArray(trophy_resource_matrix, (trophy_types, resources), (\"type\",\"resource\"))\n",
    "\n",
    "# check out the output to see how NamedArrays are structured:"
   ]
  },
  {
   "cell_type": "code",
   "execution_count": 10,
   "metadata": {},
   "outputs": [
    {
     "name": "stdout",
     "output_type": "stream",
     "text": [
      "1-dimensional DenseAxisArray{Float64,1,...} with index sets:\n",
      "    Dimension 1, [:football, :soccer, :karate]\n",
      "And data, a 3-element Array{Float64,1}:\n",
      "  650.0\n",
      " 1100.0\n",
      "    0.0\n",
      "Total profit will be $17700.0\n",
      "Coin0506I Presolve 2 (-3) rows, 3 (0) columns and 6 (-3) elements\n",
      "Clp0006I 0  Obj -0 Dual inf 30.999997 (3)\n",
      "Clp0006I 2  Obj 17700\n",
      "Clp0000I Optimal - objective value 17700\n",
      "Coin0511I After Postsolve, objective 17700, infeasibilities - dual 0 (0), primal 0 (0)\n",
      "Clp0032I Optimal objective 17700 - 2 iterations time 0.002, Presolve 0.00\n"
     ]
    }
   ],
   "source": [
    "using JuMP, Clp\n",
    "\n",
    "m = Model(Clp.Optimizer)\n",
    "\n",
    "@variable(m, trophy[trophy_types] >= 0)\n",
    "\n",
    "@expression(m, tot_profit, sum(profit[i] * trophy[i] for i in trophy_types) )\n",
    "\n",
    "@constraint(m, constr[i in resources], sum(trophy_resource_NA[t, i] * trophy[t] for t in trophy_types) <= resource_avail[i] )\n",
    "\n",
    "@objective(m, Max, tot_profit)\n",
    "\n",
    "optimize!(m)\n",
    "\n",
    "println(value.(trophy))\n",
    "println(\"Total profit will be \\$\", objective_value(m))"
   ]
  },
  {
   "cell_type": "markdown",
   "metadata": {},
   "source": [
    "## From above program modification, obviously from Base form to Compact form, the program becomes easier to be modified because of the variable separation."
   ]
  },
  {
   "cell_type": "markdown",
   "metadata": {},
   "source": [
    "# Stigler Diet Problem"
   ]
  },
  {
   "cell_type": "code",
   "execution_count": null,
   "metadata": {},
   "outputs": [],
   "source": [
    "using DataFrames, CSV, NamedArrays\n",
    "\n",
    "df=CSV.read(\"stigler.csv\",header=true, delim=','); the name#s of the DataFrame (header) are the nutrients\n",
    "nutrients=propertynames(df)[2:end]# create a list of foods from the diet array\n",
    "foods=convert(Array,df[2:end,1])# turn dataframe into Array# create a dictionary of the min requirement of each nutrient\n",
    "min_daily_req=Dict(zip(nutrients,df[1,2:end]))"
   ]
  }
 ],
 "metadata": {
  "kernelspec": {
   "display_name": "Julia 1.4.2",
   "language": "julia",
   "name": "julia-1.4"
  },
  "language_info": {
   "file_extension": ".jl",
   "mimetype": "application/julia",
   "name": "julia",
   "version": "1.4.2"
  }
 },
 "nbformat": 4,
 "nbformat_minor": 4
}
