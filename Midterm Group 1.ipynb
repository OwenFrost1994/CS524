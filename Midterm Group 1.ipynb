{
 "cells": [
  {
   "cell_type": "markdown",
   "metadata": {},
   "source": [
    "# Midterm Group 1\n",
    "\n",
    "\n",
    "## Instructions\n",
    "\n",
    "* Print out or download this file and complete the exam in the blank areas provided. \n",
    "* Upload your completed exam to Canvas before 10:30 AM. The dropbox will close promptly at 10:31 AM CDT and you will not be allowed to submit your exam after that time.\n",
    "* You are responsible for making sure your answers are legible. Use a scanner or a high-quality camera if you are completing the exam by hand (not typed).\n",
    "* The exam is open book, open notes.\n",
    "* This is an __individual assignment__. If there is evidence of improper collaboration, all parties involved will receive a score of 0 and will be reported to the Office of Student Conduct and Community Standards.\n",
    "* You are not allowed to use Julia code in your solution. All your answers must be written in \\textit{math}, not code.\n",
    "* The more clearly you write your answer, the better the chance that we can grade it accurately and give it full credit.  In particular, you may write down any assumptions you make in solving the problems.\n",
    "* Put a box around or highlight the third word of the fourth question for one bonus point.\n",
    "* This exam has 6 problems. The number of points for each problem is displayed at the end of the problem's title.  Please use your time wisely.\n",
    "* __Good luck!__ R-E-L-A-X.  I am rooting for you.\n",
    "\n",
    "|Problem | Points |\n",
    "|:-------|:-------|\n",
    "| 1 | 28|\n",
    "|2 | 10|\n",
    "|3 | 22|\n",
    "| 4 | 14 (+ 3 points) |\n",
    "| 5 | 20 |\n",
    "| 6 | +5 bonus|\n",
    "| Total: | 94 (+8 bonus)|"
   ]
  },
  {
   "cell_type": "markdown",
   "metadata": {},
   "source": [
    "## Problem 1: Tanks for the Food (28 points)\n",
    "\n",
    "The Martian colonies have to produce their own storage containers for their daily provisions. The production factory makes three types of temperature-resistant tanks: water storage (W), perishable food storage (P), and nonperishable food storage (N). Any colonist can purchase the tanks for personal use. Un-purchased tanks can be re-purposed for general use. The maximum demand this quarter for tanks of type $i$ is estimated to be $d_i$. Tanks of type $i$ can be sold for $p_i$ colony credits per tank. It costs $c_i$ to repurpose a tank of type $i$, but the repurposed tanks can be sold to the government for $C$ credits per tank (independent of the original type of tank). Each tank requires a certain amount of time to produce it, $a_i$ hours per tank for $i \\in \\{W,P,N\\}$. Each tank requires $b_i$ ($i\\in\\{W,P,N\\}$) tons of plasteel alloy to be produced. There are $B$ tons of plasteel alloy and $A$ hours available this quarter.\n",
    "\n",
    "You are tasked with formulating a linear program to maximize the tanks production facility's profit this quarter.\n",
    "\n",
    "### (a) (3 points) What are the decision variables?\n"
   ]
  },
  {
   "cell_type": "markdown",
   "metadata": {},
   "source": [
    "### (b) (4 points) What is the objective function?\n",
    "\n"
   ]
  },
  {
   "cell_type": "markdown",
   "metadata": {},
   "source": [
    "### (c) (8 points) What are the constraints?\n"
   ]
  },
  {
   "cell_type": "markdown",
   "metadata": {},
   "source": [
    "### (d) (5 points) Suppose the tank production facility wants ensure that at least 25\\% of the storage tanks that are produced are for nonperishable food storage. Write a _linear_ constraint to model this.\n"
   ]
  },
  {
   "cell_type": "markdown",
   "metadata": {},
   "source": [
    "### (e) (5 points) Now suppose the tank production facility wants to sell at least as many water storage tanks as perishable food storage tanks. Write a _linear_ constraint to model this.\n"
   ]
  },
  {
   "cell_type": "markdown",
   "metadata": {},
   "source": [
    "### (f) (3 points) Finally, suppose each tank of type $i$ can store up to $s_i$ liters. Write a _linear_ constraint that models the requirement that the average tank size of all tanks repurposed this month is $S$ liters.\n"
   ]
  },
  {
   "cell_type": "markdown",
   "metadata": {},
   "source": [
    "## Problem 2: Duality Theory (10 points)\n",
    "\n",
    "\\begin{align*}\n",
    "(P) \\qquad z^* &= \\max \\{c^T x \\ | \\ Ax \\leq b, x \\geq 0 \\}\\\\\n",
    "(D) \\qquad y^* &= \\min \\{b^T y \\ | \\ y^T A \\geq c, y \\geq 0 \\}\n",
    "\\end{align*}\n",
    "\n",
    "Given an optimal solution $x^*$ to (P) and an optimal solution $y^*$\n",
    "to (D), define the slack variables $s^* = b - Ax^*$ and $t^* = y^T A -\n",
    "c$.  Use strong duality to show that $x_j^* t_j^* = 0 \\ \\forall j$ and\n",
    "$y_i^* s_i^* = 0 \\ \\forall i$\n"
   ]
  },
  {
   "cell_type": "markdown",
   "metadata": {},
   "source": [
    "## Problem 3: Alien Puzzles (22 points)\n",
    "\n",
    "A group of explorers set out to travel the Martian wilderness and were surprised to discover an ancient puzzle hidden in an abandoned cave. The puzzle seemed to be describing a  meeting between two alien races: the Ildirans and the Hydrogues. The puzzle was as follows:\n",
    "\n",
    "_\"An impossible challenge: 3 times your Ildirans plus your Hydrogues must be 8. 2 times your Ildirans plus 5 times your Hydrogues must be 3. Your Ildirans minus your Hydrogues must be 7! How will you choose your Ildirans and your Hydrogues?\"_\n",
    "\n",
    "The explorers have interpreted the puzzle to be asking them to solve the following equations:\n",
    "\n",
    "\\begin{eqnarray*}\n",
    "3 I + H & = & 8\\\\\n",
    "2 I + 5 H & = & 3\\\\\n",
    "I - H & = & 7\\\\\n",
    "\\end{eqnarray*}\n",
    "\n",
    "The explorers are expert linear algebrists and know they cannot solve this problem. Instead, they will try to do the best they can with a variety of approaches, hoping one of their answers will reveal ancient alien secrets.\n",
    "\n",
    "### (a) (3 points) Give a mathematical argument (i.e., proof) that this system of equations has no solution. What do we call this situation?\n"
   ]
  },
  {
   "cell_type": "markdown",
   "metadata": {},
   "source": [
    "### (b) (5 points) Formulate a _linear_ program that will find a solution $(I,H)$ that will minimize the _total_ absolute deviation (i.e., one-norm) in the three constraints.   \n"
   ]
  },
  {
   "cell_type": "markdown",
   "metadata": {},
   "source": [
    "### (c) (5 points) One of the explorers pipes up that she found another piece of the riddle. It states that the \"maximum deviation of any of the three equations must be no more than 5.\" Add linear constraints to your answer from Problem 3(b) to enforce this restriction. \n"
   ]
  },
  {
   "cell_type": "markdown",
   "metadata": {},
   "source": [
    "### (d) (4 points) After solving the first version of this problem, nothing happens. Growing frustrated, the explorers decide to give up on linear programming. Instead, they would like to minimize the 2-norm of the violation of the original equations in the problem statement. Modify your answer to Problem 3(b) to enforce this. Add one final constraint to your problem that _must_ be met, even if the other constraints are not met: $I + H = 15$. Write down your complete (nonlinear) optimization model. What type of problem is this? \n"
   ]
  },
  {
   "cell_type": "markdown",
   "metadata": {},
   "source": [
    "### (e) (5 points) Write a set of _linear_ equalities that will give you the optimal solution to Problem 3(d). \n"
   ]
  },
  {
   "cell_type": "markdown",
   "metadata": {},
   "source": [
    "## Problem 4: The Crops are Too Sensitive (14 points + 3 bonus points)\n",
    "\n",
    "\n",
    "The Martian colony produces 3 major crops: corn, wheat, and potatoes. The production is limited by the number of acres of farmland available and the gallons of water available to irrigate the soil. Furthermore, corn is used for other products so it has an upper bound on how much can be sold. We can write a linear program to maximize the profit generated by these three crops as follows:\n",
    "\n",
    "\\begin{alignat*}{4}\n",
    "\\max \\ z &=& p_1x_1 &+& p_2x_2 &+& p_3x_3 \\\\\n",
    "&& a_{11}x_1 &+& a_{12}x_2 &+& a_{13}x_3 & \\leq b_1 \\quad \\text{(acreage)} \\\\\n",
    "&& a_{21}x_1 &+& a_{22}x_2 &+&  a_{23}x_3 &\\leq b_2 \\quad \\text{(water availability)} \\\\\n",
    "&& x_1 && && & \\leq b_3 \\quad \\text{(max corn sales)} \\\\\n",
    "&& x_1 &,& x_2 &,& x_3 & \\geq 0\n",
    "\\end{alignat*}\n",
    "where $x_j$ represents the tons of product $j$ to produce and sell, $j=1,2,3$ (1=corn, 2 = wheat, 3=potatoes).\n",
    "\n",
    "We can solve this linear program to obtain an optimal solution of  $(x^*_1,x^*_2,x^*_3) = (10,?,0)$.\n",
    "\n",
    "### (a) (4 points) Write the dual of this linear program. Clearly indicate the relationship between your dual variables and constraints and your primal variables and constraints. "
   ]
  },
  {
   "cell_type": "markdown",
   "metadata": {},
   "source": [
    "### (b) (4 points) Suppose the dual optimal solution is $(\\lambda_1^*,\\lambda_2^*,\\lambda_3^*) = (3,1,0)$. What is $x_2^*$? Show how you determined it. \n",
    "\n",
    "\n",
    "$x_2^* = $\n"
   ]
  },
  {
   "cell_type": "markdown",
   "metadata": {},
   "source": [
    "### (c) (3 points) Suppose we are able to purchase $\\delta$ additional acres of farmland. How much would we be willing to pay for an additional acre? What can you say about the new optimal objective value if we purchase all $\\delta$ acres? Explain your reasoning.\n",
    "\n",
    "\n",
    "$z^*_{new} \\ \\underbrace{ \\geq \\ = \\ \\leq }_{\\text{Choose one }} \\underline{\\quad \\quad}$\n"
   ]
  },
  {
   "cell_type": "markdown",
   "metadata": {},
   "source": [
    "### (d) (3 points) Suppose the profit per ton of corn increases by $\\epsilon$. What can you say about the new optimal objective value? Explain your reasoning.\n",
    "\n",
    "$z^*_{new} \\ \\underbrace{ \\geq \\ = \\ \\leq }_{\\text{Choose one }} \\underline{\\quad \\quad}$\n"
   ]
  },
  {
   "cell_type": "markdown",
   "metadata": {},
   "source": [
    "### (e) (Challenge: 3 bonus points) The colonists are considering adding lettuce to the farm. Lettuce requires $a_{14}$ acres and would produce $p_4$ dollars per ton in profit. For what value $U$ would it be profitable to produce and sell lettuce if it required less than $U$ gallons of water to irrigate the lettuce crop?"
   ]
  },
  {
   "cell_type": "markdown",
   "metadata": {},
   "source": [
    "## Problem 5: (Space)Ship-Shape (20 points)\n",
    "\n",
    "\n",
    "Martian Transport, Inc., builds two types of spacecraft: shuttles (for travel across the Martian surface) and rockets (for transport back to Earth). The ships are made from three metals: aluminum, silica, and titanium. The data summarizing how much of each material (in millions of tons) is required and the revenue generated for each type of spacecraft is summarized below:\n",
    "\n",
    "| Spacecraft | Profit (\\\\$) | Aluminium | Silica | Titanium |\n",
    "| :-----------|:---------|:----------|:--------|:------| \n",
    "|Shuttle | $p_s$ | $a$ | $b$ | 0 |\n",
    "| Rocket | $p_r$ | $c$ | $d$ | $e$|\n",
    "\n",
    "There are 20 million tons of aluminum, 5 million tons of silica, and 10 million tons of titanium available for spacecraft production. To meet demand, the number of rockets made must not be more than 1 greater than the number of shuttles made.\n",
    "\n",
    "\n",
    "### (a) (5 points) Let $x_s$ be the number of shuttles to produce, and let $x_r$ be the number of rockets to produce. Formulate a linear program to maximize profit subject to the necessary constraints. "
   ]
  },
  {
   "cell_type": "markdown",
   "metadata": {},
   "source": [
    "### (b) (5 points) For simplicity, assume that $a,b,c,d,$ and $e$ are $> 0$. Which of the regions shown on this graph below ($A$-$J$) could represent the feasible region of your linear program? \n",
    "\n",
    "![](graphical_group_1.jpg)"
   ]
  },
  {
   "cell_type": "markdown",
   "metadata": {},
   "source": [
    "### (c) (2 points) Does this linear program have a finite optimal solution for any choice of $p_r$ and $p_s$? Why or why not?\n"
   ]
  },
  {
   "cell_type": "markdown",
   "metadata": {},
   "source": [
    "### (d) (4 points) Let $a = 5$, $b=1$, $c = 4$, and $d=2$. Solve this linear program for an objective function with a slope of $-1$. Solve this LP using the graphical method.  What is the optimal solution $(x^*_s, x^*_r)$?\n"
   ]
  },
  {
   "cell_type": "markdown",
   "metadata": {},
   "source": [
    "### (e) (4 points) Given the feasible region in Problem 5(b), identify one objective function that would result in the instance having multiple optimal solutions.   If this is impossible, write _impossible_. "
   ]
  },
  {
   "cell_type": "markdown",
   "metadata": {},
   "source": [
    "## Problem 6: Bonus! (5 bonus points)\n",
    "\n",
    "Create your own meme, comic, or drawing about your favorite optimization concept in this course. Give a short (1-2 sentence) summary of the topic and why you chose it.\n",
    "\n",
    "(If you are writing your exam answers on a separate paper, you can upload a separate image file in whatever format you like.)\n",
    "\n",
    "#### Example of a 524 meme:\n",
    "![](524meme.jpg)"
   ]
  },
  {
   "cell_type": "code",
   "execution_count": null,
   "metadata": {},
   "outputs": [],
   "source": []
  }
 ],
 "metadata": {
  "kernelspec": {
   "display_name": "Julia 1.4.2",
   "language": "julia",
   "name": "julia-1.4"
  },
  "language_info": {
   "file_extension": ".jl",
   "mimetype": "application/julia",
   "name": "julia",
   "version": "1.4.2"
  }
 },
 "nbformat": 4,
 "nbformat_minor": 4
}
