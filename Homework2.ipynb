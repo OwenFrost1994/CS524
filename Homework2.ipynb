{
 "cells": [
  {
   "cell_type": "markdown",
   "metadata": {},
   "source": [
    "# Problem 1"
   ]
  },
  {
   "cell_type": "markdown",
   "metadata": {},
   "source": [
    "## Since we have demand for each cost, the demand vector can be directly built. Then, we know that we can increase or decrease the production in each month with special stuff, where the increase and decrease action can be recorded by the variables. Next, we also know that the storage will add extra cost, which means the storage in each month must be recorded. \n",
    "\n",
    "## Then according to the problem we have, we need to reduce the cost in production, storage and demand not satisfied. All these values are set to be positive.\n",
    "\n",
    "## Two sets of independent variables are used: increase of production in each month and decrease of production in each month.\n",
    "\n",
    "## With these two sets of independent variables, the production in each month can be determined: $$p[t] = p[t-1] + incre[t] - decre[t]$$\n",
    "\n",
    "## Then the storage in each month(assumed to be >=0), can be calculatedas:$$stor[t] = stor[t-1] + p[t] - d[t]$$\n",
    "\n",
    "## Also the $stor[6]>=2$ is a required condition. In the last month, the storage is the stroage in last month plus the production in this month minus the unsatisfied demand before minus the demand in Dec. When the right side is smaller than 0, the stor[t] is 0.\n",
    "\n",
    "## Similarly, the demand not satisfied can also be calcualted: $$inshort[t] == d[t] - stor[t-1] - p[t]$$ where the right side is smaller than 0, meaning the demand in this month is totally satisfied, the unsatisfied will automatically be set as 0. Also, the demand not satisfied in last month should be 0, in which we can have extra storage.\n",
    "\n",
    "## Because the demand unsatisfied before should all be satisfied in Dec, we will have another constrain:$$sum(stor[5] + p[6] - inshort[1:5]) - d[6] >= 2)$$ meaning we will have all demand satisfied at the end of the year and at least 2 ton storage will be left.\n",
    "\n",
    "## Another thing we need to remember is the storage cost. We see that the function of cost toward storage is a staged function. Here to realize the optimization we change it into following form:$$storc[t] == 60 + 75*stor[t]$$ where the cost function becomes convex one. In  this way optimize will trend to reduce the amount of storage.\n",
    "\n",
    "## Finally the objective is minimize:$$240*sum(incre) + 210*sum(decre) + sum(storc) + 80*sum(inshort)$$ "
   ]
  },
  {
   "cell_type": "code",
   "execution_count": 56,
   "metadata": {},
   "outputs": [
    {
     "name": "stdout",
     "output_type": "stream",
     "text": [
      "Increse [0.0, 0.0, 3.000000000000001, 12.0, 0.0, 0.0] tons of bacteria in each month\n",
      "Decrease [1.0, 4.000000000000001, 0.0, 0.0, 5.0, 0.0] tons of bacteria in each month\n",
      "Produce [9.0 4.999999999999999 8.0 20.0 15.0 15.0] tons of bacteria in each month\n",
      "Storage: [0.0 0.0 0.0 0.0 0.0 11.999999999999998]\n",
      "Demand not satisfied: [0.0 0.0 0.0 0.0 0.0 0.0]\n",
      "Cost: 6960.0\n",
      "Coin0506I Presolve 12 (-13) rows, 20 (-16) columns and 47 (-32) elements\n",
      "Clp0006I 0  Obj 6140.8996 Primal inf 10.998657 (11)\n",
      "Clp0006I 11  Obj 6960\n",
      "Clp0000I Optimal - objective value 6960\n",
      "Coin0511I After Postsolve, objective 6960, infeasibilities - dual 0 (0), primal 0 (0)\n",
      "Clp0032I Optimal objective 6960 - 11 iterations time 0.002, Presolve 0.00\n"
     ]
    }
   ],
   "source": [
    "using JuMP, Clp\n",
    "\n",
    "d = [10 5 8 20 15 3] # monthly bacteria demand\n",
    "\n",
    "m = Model(Clp.Optimizer)\n",
    "\n",
    "@variable(m, incre[1:6] >= 0 ) # increasing enzyme used in each month t=1,2,3,4,5,6\n",
    "@variable(m, decre[1:6] >= 0 ) # decreasing enzyme used in each month\n",
    "@variable(m, p[1:6] >= 0 ) # production in each month\n",
    "@variable(m, stor[1:6] >= 0 ) # bacteria in storage\n",
    "@variable(m, inshort[1:6] >= 0 ) # unmeet demand in each month\n",
    "@variable(m, storc[1:6] >= 0) #storage cost in each month\n",
    "# our objective is to minimize the total cost\n",
    "@objective(m, Min, 240*sum(incre) + 210*sum(decre) + sum(storc) + 80*sum(inshort))\n",
    "\n",
    "# constraint on the production in each month\n",
    "@constraint(m, prod_rela_init, p[1] == 10 + incre[1] - decre[1])\n",
    "@constraint(m, prod_rela[t in 2:6], p[t] == p[t-1] + incre[t] - decre[t])\n",
    "\n",
    "# stroage in each month\n",
    "@constraint(m, stor_rela_init, stor[1] == 1 + p[1] - d[1])\n",
    "@constraint(m, stor_rela[t in 2:5], stor[t] == stor[t-1] + p[t] - d[t])\n",
    "@constraint(m, stor_rela_Dec, stor[6] == stor[5] + p[6]-sum(inshort[1:5]) - d[6])\n",
    "\n",
    "# demand not be satisfied\n",
    "@constraint(m, inshort_rela_init, inshort[1] == d[1] - p[1] - 1)\n",
    "@constraint(m, inshort_rela[t in 2:5], inshort[t] == d[t] - stor[t-1] - p[t])\n",
    "@constraint(m, inshort_rela_Dec, inshort[6] == 0)\n",
    "\n",
    "# unsatisfied demand should be satisfied in Dec\n",
    "@constraint(m, inshort_sat, stor[5] + p[6] - sum(inshort[1:5]) - d[6] >= 2)\n",
    "\n",
    "# \n",
    "@constraint(m, storc_rela[t in 1:6], storc[t] == 60 + 75*stor[t])\n",
    "# solve this instance of ShoeCo and print relevant solution details\n",
    "optimize!(m)\n",
    "# pint the results\n",
    "println(\"Increse \", Array(value.(incre)), \" tons of bacteria in each month\")\n",
    "println(\"Decrease \", Array(value.(decre)), \" tons of bacteria in each month\")\n",
    "println(\"Produce \", Array(value.(p')), \" tons of bacteria in each month\")\n",
    "println(\"Storage: \", Array(value.(stor')))\n",
    "println(\"Demand not satisfied: \", Array(value.(inshort')))\n",
    "println(\"Cost: \", objective_value(m))"
   ]
  },
  {
   "cell_type": "markdown",
   "metadata": {},
   "source": [
    "## Generally, this optimal result is still ok. Where we can see only demand in one month is not satisfied totally. And the increase of producition is only need in the month has larhest demand. The increase and decrease of production will not appear in same month. At the end of the year we will still have enough storage. In this model, we will pay more to decrease the prodcution in last month than store the extra producted bacteria. So we will still have 12 storage in last month."
   ]
  },
  {
   "cell_type": "markdown",
   "metadata": {},
   "source": [
    "# Problem 2"
   ]
  },
  {
   "cell_type": "markdown",
   "metadata": {},
   "source": [
    "## Here forgive me using nonlinear modulus first. In my evaluation, the cost of transfer is determiend by the modes on two neighbor legs:$$x_{i,leg1}*A_{i,j}*x_{j, leg2}$$where we will see quadratic terms of unknown variables."
   ]
  },
  {
   "cell_type": "code",
   "execution_count": 91,
   "metadata": {},
   "outputs": [
    {
     "data": {
      "text/latex": [
       "$$ 500 x_{Aircraft,2}\\times x_{Tunnel,1} + 500 x_{Aircraft,3}\\times x_{Tunnel,2} + 500 x_{Aircraft,4}\\times x_{Tunnel,3} + 1200 x_{Teleportation,2}\\times x_{Tunnel,1} + 1200 x_{Teleportation,3}\\times x_{Tunnel,2} + 1200 x_{Teleportation,4}\\times x_{Tunnel,3} + 800 x_{Tunnel,2}\\times x_{Aircraft,1} + 800 x_{Tunnel,3}\\times x_{Aircraft,2} + 800 x_{Tunnel,4}\\times x_{Aircraft,3} + 1000 x_{Teleportation,2}\\times x_{Aircraft,1} + 1000 x_{Teleportation,3}\\times x_{Aircraft,2} + 1000 x_{Teleportation,4}\\times x_{Aircraft,3} + 1500 x_{Tunnel,2}\\times x_{Teleportation,1} + 1500 x_{Tunnel,3}\\times x_{Teleportation,2} + 1500 x_{Tunnel,4}\\times x_{Teleportation,3} + 1000 x_{Aircraft,2}\\times x_{Teleportation,1} + 1000 x_{Aircraft,3}\\times x_{Teleportation,2} + 1000 x_{Aircraft,4}\\times x_{Teleportation,3} + 750 x_{Tunnel,1} + 625 x_{Tunnel,2} + 1000 x_{Tunnel,3} + 1500 x_{Tunnel,4} + 625 x_{Aircraft,1} + 1000 x_{Aircraft,2} + 1125 x_{Aircraft,3} + 1250 x_{Aircraft,4} + 1000 x_{Teleportation,1} + 500 x_{Teleportation,2} + 1250 x_{Teleportation,3} + 1125 x_{Teleportation,4} $$"
      ],
      "text/plain": [
       "500 x[Aircraft,2]*x[Tunnel,1] + 500 x[Aircraft,3]*x[Tunnel,2] + 500 x[Aircraft,4]*x[Tunnel,3] + 1200 x[Teleportation,2]*x[Tunnel,1] + 1200 x[Teleportation,3]*x[Tunnel,2] + 1200 x[Teleportation,4]*x[Tunnel,3] + 800 x[Tunnel,2]*x[Aircraft,1] + 800 x[Tunnel,3]*x[Aircraft,2] + 800 x[Tunnel,4]*x[Aircraft,3] + 1000 x[Teleportation,2]*x[Aircraft,1] + 1000 x[Teleportation,3]*x[Aircraft,2] + 1000 x[Teleportation,4]*x[Aircraft,3] + 1500 x[Tunnel,2]*x[Teleportation,1] + 1500 x[Tunnel,3]*x[Teleportation,2] + 1500 x[Tunnel,4]*x[Teleportation,3] + 1000 x[Aircraft,2]*x[Teleportation,1] + 1000 x[Aircraft,3]*x[Teleportation,2] + 1000 x[Aircraft,4]*x[Teleportation,3] + 750 x[Tunnel,1] + 625 x[Tunnel,2] + 1000 x[Tunnel,3] + 1500 x[Tunnel,4] + 625 x[Aircraft,1] + 1000 x[Aircraft,2] + 1125 x[Aircraft,3] + 1250 x[Aircraft,4] + 1000 x[Teleportation,1] + 500 x[Teleportation,2] + 1250 x[Teleportation,3] + 1125 x[Teleportation,4]"
      ]
     },
     "execution_count": 91,
     "metadata": {},
     "output_type": "execute_result"
    }
   ],
   "source": [
    "using JuMP, Ipopt, NamedArrays\n",
    "# create name of legs and modes\n",
    "legs  = [1, 2, 3, 4]\n",
    "modes = [:Tunnel, :Aircraft, :Teleportation]\n",
    "\n",
    "Transcost = NamedArray( [0 500 1200; 800 0 1000; 1500 1000 0], (modes,modes), (\"From\",\"To\"))\n",
    "\n",
    "Infracost = NamedArray( [30 25 40 60; 25 40 45 50; 40 20 50 45], (modes,legs), (\"Modes\",\"Legs\"))\n",
    "\n",
    "m = Model(Ipopt.Optimizer)\n",
    "\n",
    "@variable(m, x[modes,legs] >= 0) # x[i,j] is the choose of transport modes\n",
    "\n",
    "@constraint(m, onemode[j in legs], sum(x[i,j] for i in modes) == 1)\n",
    "\n",
    "@objective(m, Max, sum(25*x[i,j]*Infracost[i,j] for i in modes, j in legs) + \n",
    "    sum(x[i,leg[j]]*Transcost[i,k]*x[k,leg[j+1]] for i in modes, k in modes, j in 1:3))"
   ]
  },
  {
   "cell_type": "code",
   "execution_count": 107,
   "metadata": {
    "scrolled": true
   },
   "outputs": [
    {
     "name": "stdout",
     "output_type": "stream",
     "text": [
      "This is Ipopt version 3.13.2, running with linear solver mumps.\n",
      "NOTE: Other linear solvers might be more efficient (see Ipopt documentation).\n",
      "\n",
      "Number of nonzeros in equality constraint Jacobian...:       12\n",
      "Number of nonzeros in inequality constraint Jacobian.:        0\n",
      "Number of nonzeros in Lagrangian Hessian.............:       18\n",
      "\n",
      "Total number of variables............................:       12\n",
      "                     variables with only lower bounds:       12\n",
      "                variables with lower and upper bounds:        0\n",
      "                     variables with only upper bounds:        0\n",
      "Total number of equality constraints.................:        4\n",
      "Total number of inequality constraints...............:        0\n",
      "        inequality constraints with only lower bounds:        0\n",
      "   inequality constraints with lower and upper bounds:        0\n",
      "        inequality constraints with only upper bounds:        0\n",
      "\n",
      "iter    objective    inf_pr   inf_du lg(mu)  ||d||  lg(rg) alpha_du alpha_pr  ls\n",
      "   0 -1.1929988e+02 9.70e-01 1.90e+01  -1.0 0.00e+00    -  0.00e+00 0.00e+00   0\n",
      "   1 -6.7155325e+03 0.00e+00 1.19e+02  -1.0 6.45e-01   2.0 1.78e-02 1.00e+00f  1\n",
      "   2 -7.1257062e+03 2.22e-16 1.22e+02  -1.0 5.05e-01   2.4 9.93e-01 1.89e-01f  1\n",
      "   3 -7.2610434e+03 2.22e-16 1.25e+02  -1.0 1.45e+01   1.9 5.11e-02 2.79e-03f  1\n",
      "   4 -7.6756678e+03 2.22e-16 1.07e+02  -1.0 3.15e-01   2.4 1.00e+00 3.55e-01f  1\n",
      "   5 -8.0328960e+03 1.11e-16 1.78e+02  -1.0 6.96e-01   1.9 1.00e+00 1.69e-01f  1\n",
      "   6 -8.3257800e+03 1.11e-16 1.74e+02  -1.0 1.22e+00   1.4 1.00e+00 1.26e-01f  1\n",
      "   7 -8.4961230e+03 2.22e-16 1.80e+02  -1.0 1.52e+01    -  4.35e-02 2.29e-02f  1\n",
      "   8 -8.5555002e+03 1.11e-16 1.26e+02  -1.0 8.63e-01    -  1.00e+00 9.04e-02f  1\n",
      "   9 -8.5620986e+03 0.00e+00 1.00e-06  -1.0 2.58e-03    -  1.00e+00 1.00e+00f  1\n",
      "iter    objective    inf_pr   inf_du lg(mu)  ||d||  lg(rg) alpha_du alpha_pr  ls\n",
      "  10 -8.5746690e+03 1.11e-16 2.83e-08  -2.5 4.99e-03    -  1.00e+00 1.00e+00f  1\n",
      "  11 -8.5749821e+03 2.22e-16 1.50e-09  -3.8 1.43e-04    -  1.00e+00 1.00e+00f  1\n",
      "  12 -8.5749999e+03 1.11e-16 1.85e-11  -5.7 7.65e-06    -  1.00e+00 1.00e+00f  1\n",
      "  13 -8.5750001e+03 0.00e+00 8.13e-14  -8.6 9.48e-08    -  1.00e+00 1.00e+00f  1\n",
      "\n",
      "Number of Iterations....: 13\n",
      "\n",
      "                                   (scaled)                 (unscaled)\n",
      "Objective...............:  -5.7166667536328612e+02   -8.5750001304492926e+03\n",
      "Dual infeasibility......:   8.1258075245108498e-14    1.2188711286766275e-12\n",
      "Constraint violation....:   0.0000000000000000e+00    0.0000000000000000e+00\n",
      "Complementarity.........:   2.5059921269205684e-09    3.7589881903808526e-08\n",
      "Overall NLP error.......:   2.5059921269205684e-09    3.7589881903808526e-08\n",
      "\n",
      "\n",
      "Number of objective function evaluations             = 14\n",
      "Number of objective gradient evaluations             = 14\n",
      "Number of equality constraint evaluations            = 14\n",
      "Number of inequality constraint evaluations          = 0\n",
      "Number of equality constraint Jacobian evaluations   = 1\n",
      "Number of inequality constraint Jacobian evaluations = 0\n",
      "Number of Lagrangian Hessian evaluations             = 1\n",
      "Total CPU secs in IPOPT (w/o function evaluations)   =      0.005\n",
      "Total CPU secs in NLP function evaluations           =      0.000\n",
      "\n",
      "EXIT: Optimal Solution Found.\n",
      "The construction plan is:\n",
      "3×4 Named Array{Float64,2}\n",
      "  Modes ╲ Legs │   1    2    3    4\n",
      "───────────────┼───────────────────\n",
      ":Tunnel        │ 0.0  1.0  0.0  1.0\n",
      ":Aircraft      │ 0.0  0.0  0.0  0.0\n",
      ":Teleportation │ 1.0  0.0  1.0  0.0\n",
      "Total cost will be $8575.000130449293\n"
     ]
    }
   ],
   "source": [
    "using JuMP\n",
    "optimize!(m)\n",
    "\n",
    "##solution = NamedArray(Int[value(x[i,j]) for i in modes, j in legs], (modes,legs), (\"Modes\",\"Legs\"))\n",
    "println(\"The construction plan is:\")\n",
    "println(NamedArray(value.(x[i,j] for i in modes, j in legs), (modes,legs), (\"Modes\",\"Legs\")))\n",
    "println(\"Total cost will be \\$\", objective_value(m))"
   ]
  },
  {
   "cell_type": "markdown",
   "metadata": {},
   "source": [
    "## I discussed with other students and found another form, even I don't think it is ok (I think its physical meaning is not very clear) to express the cost function in this way, I still pose this form here:"
   ]
  },
  {
   "cell_type": "code",
   "execution_count": 112,
   "metadata": {},
   "outputs": [
    {
     "name": "stdout",
     "output_type": "stream",
     "text": [
      "The construction plan is:\n",
      "3×4 Named Array{Float64,2}\n",
      "  Modes ╲ Legs │   1    2    3    4\n",
      "───────────────┼───────────────────\n",
      ":Tunnel        │ 0.0  0.0  0.0  0.0\n",
      ":Aircraft      │ 0.0  1.0  0.0  0.0\n",
      ":Teleportation │ 1.0  0.0  1.0  1.0\n",
      "Total cost will be $9875.0\n",
      "Coin0506I Presolve 0 (-4) rows, 0 (-12) columns and 0 (-12) elements\n",
      "Clp3002W Empty problem - 0 rows, 0 columns and 0 elements\n",
      "Clp0000I Optimal - objective value 9875\n",
      "Coin0511I After Postsolve, objective 9875, infeasibilities - dual 0 (0), primal 0 (0)\n",
      "Clp0032I Optimal objective 9875 - 0 iterations time 0.002, Presolve 0.00\n"
     ]
    }
   ],
   "source": [
    "using JuMP, Clp, NamedArrays\n",
    "# create name of legs and modes\n",
    "legs  = [1, 2, 3, 4]\n",
    "modes = [:Tunnel, :Aircraft, :Teleportation]\n",
    "leg  = [2, 3, 4]\n",
    "mode = [:Aircraft, :Teleportation, :Tunnel]\n",
    "Transcost = NamedArray( [0 500 1200; 800 0 1000; 1500 1000 0], (modes,modes), (\"From\",\"To\"))\n",
    "\n",
    "Infracost = NamedArray( [30 25 40 60; 25 40 45 50; 40 20 50 45], (modes,legs), (\"Modes\",\"Legs\"))\n",
    "\n",
    "m = Model(Clp.Optimizer)\n",
    "\n",
    "@variable(m, x[modes,legs] >= 0) # x[i,j] is the choose of transport modes\n",
    "\n",
    "@constraint(m, onemode[j in legs], sum(x[i,j] for i in modes) == 1)\n",
    "\n",
    "@objective(m, Max, sum(25*x[i,j]*Infracost[i,j] + x[i,j]*Transcost[i,k] for j in legs, (i,k) in zip(modes,mode)))\n",
    "\n",
    "optimize!(m)\n",
    "\n",
    "##solution = NamedArray(Int[value(x[i,j]) for i in modes, j in legs], (modes,legs), (\"Modes\",\"Legs\"))\n",
    "println(\"The construction plan is:\")\n",
    "println(NamedArray(value.(x[i,j] for i in modes, j in legs), (modes,legs), (\"Modes\",\"Legs\")))\n",
    "println(\"Total cost will be \\$\", objective_value(m))"
   ]
  },
  {
   "cell_type": "markdown",
   "metadata": {},
   "source": [
    "## Generally, this method gives us a planning of infrastructure construction. But compared with optimal results based on nonlinear solver, I think the cost function here is not so physically meaningful."
   ]
  },
  {
   "cell_type": "markdown",
   "metadata": {},
   "source": [
    "## Here are some variables I used in the model"
   ]
  },
  {
   "cell_type": "code",
   "execution_count": 63,
   "metadata": {},
   "outputs": [
    {
     "data": {
      "text/plain": [
       "3×4 Named Array{Int64,2}\n",
       "  Modes ╲ Legs │  1   2   3   4\n",
       "───────────────┼───────────────\n",
       ":Tunnel        │ 30  25  40  60\n",
       ":Aircraft      │ 25  40  45  50\n",
       ":Teleportation │ 40  20  50  45"
      ]
     },
     "execution_count": 63,
     "metadata": {},
     "output_type": "execute_result"
    }
   ],
   "source": [
    "Infracost"
   ]
  },
  {
   "cell_type": "code",
   "execution_count": 64,
   "metadata": {},
   "outputs": [
    {
     "data": {
      "text/plain": [
       "2-dimensional DenseAxisArray{VariableRef,2,...} with index sets:\n",
       "    Dimension 1, [:Tunnel, :Aircraft, :Teleportation]\n",
       "    Dimension 2, [1, 2, 3, 4]\n",
       "And data, a 3×4 Array{VariableRef,2}:\n",
       " x[Tunnel,1]         x[Tunnel,2]         …  x[Tunnel,4]\n",
       " x[Aircraft,1]       x[Aircraft,2]          x[Aircraft,4]\n",
       " x[Teleportation,1]  x[Teleportation,2]     x[Teleportation,4]"
      ]
     },
     "execution_count": 64,
     "metadata": {},
     "output_type": "execute_result"
    }
   ],
   "source": [
    "x"
   ]
  },
  {
   "cell_type": "code",
   "execution_count": 66,
   "metadata": {},
   "outputs": [
    {
     "data": {
      "text/plain": [
       "3×3 Named Array{Int64,2}\n",
       "     From ╲ To │        :Tunnel       :Aircraft  :Teleportation\n",
       "───────────────┼───────────────────────────────────────────────\n",
       ":Tunnel        │              0             500            1200\n",
       ":Aircraft      │            800               0            1000\n",
       ":Teleportation │           1500            1000               0"
      ]
     },
     "execution_count": 66,
     "metadata": {},
     "output_type": "execute_result"
    }
   ],
   "source": [
    "Transcost"
   ]
  },
  {
   "cell_type": "code",
   "execution_count": 73,
   "metadata": {},
   "outputs": [
    {
     "data": {
      "text/latex": [
       "$$ x_{Tunnel,1} $$"
      ],
      "text/plain": [
       "x[Tunnel,1]"
      ]
     },
     "execution_count": 73,
     "metadata": {},
     "output_type": "execute_result"
    }
   ],
   "source": [
    "x[:Tunnel, leg[1]]"
   ]
  },
  {
   "cell_type": "code",
   "execution_count": 76,
   "metadata": {},
   "outputs": [
    {
     "name": "stdout",
     "output_type": "stream",
     "text": [
      "0+500 x[Tunnel,1]*x[Aircraft,2]+1200 x[Tunnel,1]*x[Teleportation,2]+800 x[Aircraft,1]*x[Tunnel,2]+0+1000 x[Aircraft,1]*x[Teleportation,2]+1500 x[Teleportation,1]*x[Tunnel,2]+1000 x[Teleportation,1]*x[Aircraft,2]+0+"
     ]
    }
   ],
   "source": [
    "for j in 1:1\n",
    "    for i in modes\n",
    "        for k in modes\n",
    "        print(x[i,leg[1]]*Transcost[i,k]*x[k,leg[1+1]],'+')\n",
    "        end\n",
    "    end\n",
    "end"
   ]
  },
  {
   "cell_type": "markdown",
   "metadata": {},
   "source": [
    "# Problem 3"
   ]
  },
  {
   "cell_type": "markdown",
   "metadata": {},
   "source": [
    "## a) This problem is a typical assigning problem: asssigning 8 astronauts into 4 missions with the skill requirements met. So an optimal assignment of can be obtained with a model built and optimization applied."
   ]
  },
  {
   "cell_type": "markdown",
   "metadata": {},
   "source": [
    "## b) Since I answered 'Yes'. I tried to give a assignment:\n",
    "## mission1: Astronaut 1 and 7\n",
    "## mission2: Astronaut 2 and 8\n",
    "## mission3: Astronaut 3 and 6\n",
    "## mission4: Astronaut 4 and 5"
   ]
  },
  {
   "cell_type": "markdown",
   "metadata": {},
   "source": [
    "## c) the skills in wich at least one astronaut has a score of ≥ 10/20:\n",
    "## mission1: Computing/IT, Piloting, Mechanical engineering; Agriculture, Astrobiology, Electronics, Air & water\n",
    "## mission2: Computing/IT, Mechanical engineering, Health/safety; Agriculture, Astrobiology, Electronics, Geology\n",
    "## mission3: Mechanical engineering, Piloting; Agriculture, Air & water, Astrobiology, Geology\n",
    "## mission4: Computing/IT, Piloting, Piloting, Health/safety; Electronics, Astrobiology, Electronics, Geology;"
   ]
  },
  {
   "cell_type": "markdown",
   "metadata": {},
   "source": [
    "## To my comprehension we need to obtain a assignment of astronaut into 4 misssions, meaning we need a $x[i,j]$, where i in astronaut, j in missions"
   ]
  },
  {
   "cell_type": "code",
   "execution_count": 120,
   "metadata": {},
   "outputs": [
    {
     "data": {
      "text/plain": [
       "9×8 Named Array{Int64,2}\n",
       "     Skill ╲ Astronaut │ :A1  :A2  :A3  :A4  :A5  :A6  :A7  :A8\n",
       "───────────────────────┼───────────────────────────────────────\n",
       ":ComputingIT           │  20   14    0   13    0    0    8    8\n",
       ":Piloting              │  12    0    0   10   15   20    8    9\n",
       ":Mechanicalengineering │   0   20   12    0    8   11   14   12\n",
       ":Healthsafety          │   0    0    0    0   17    0    0   16\n",
       ":Agriculture           │  18   12   15    0    0    0    8    0\n",
       ":Electronics           │  10    0    9   14   15    8   12   13\n",
       ":Astrobiology          │   0   17    0   11   13   10    0    0\n",
       ":Airwater              │   0    0   14    0    0   12   16    0\n",
       ":Geology               │   0    0    0    0   12   18    0   18"
      ]
     },
     "execution_count": 120,
     "metadata": {},
     "output_type": "execute_result"
    }
   ],
   "source": [
    "using JuMP, Clp, NamedArrays\n",
    "# create\n",
    "Astronaut = [:A1, :A2, :A3, :A4, :A5, :A6, :A7, :A8]\n",
    "Skill = [:ComputingIT, :Piloting, :Mechanicalengineering, :Healthsafety, :Agriculture, :Electronics, :Astrobiology, :Airwater, :Geology]\n",
    "Mission = [:M1, :M2, :M3, :M4]\n",
    "Skill_astronaut = NamedArray( [20 14 0 13 0 0 8 8; 12 0 0 10 15 20 8 9; 0 20 12 0 8 11 14 12; 0 0 0 0 17 0 0 16;\n",
    "        18 12 15 0 0 0 8 0; 10 0 9 14 15 8 12 13; 0 17 0 11 13 10 0 0; 0 0 14 0 0 12 16 0; 0 0 0 0 12 18 0 18],\n",
    "    (Skill, Astronaut), (\"Skill\",\"Astronaut\"))"
   ]
  },
  {
   "cell_type": "code",
   "execution_count": 130,
   "metadata": {},
   "outputs": [
    {
     "name": "stdout",
     "output_type": "stream",
     "text": [
      "The mission assignment is:\n",
      "8×4 Named Array{Float64,2}\n",
      "Astronaut ╲ Mission │ :M1  :M2  :M3  :M4\n",
      "────────────────────┼───────────────────\n",
      ":A1                 │ 0.0  0.0  0.0  1.0\n",
      ":A2                 │ 0.0  1.0  0.0  0.0\n",
      ":A3                 │ 1.0  0.0  0.0  0.0\n",
      ":A4                 │ 1.0  0.0  0.0  0.0\n",
      ":A5                 │ 0.0  0.0  1.0  0.0\n",
      ":A6                 │ 0.0  0.0  1.0  0.0\n",
      ":A7                 │ 0.0  0.0  0.0  1.0\n",
      ":A8                 │ 0.0  1.0  0.0  0.0\n",
      "Maximum total score will be 522.0\n",
      "Coin0506I Presolve 12 (0) rows, 32 (0) columns and 64 (0) elements\n",
      "Clp0006I 0  Obj 0 Primal inf 15.999999 (12) Dual inf 2088 (32)\n",
      "Clp0006I 18  Obj 522\n",
      "Clp0000I Optimal - objective value 522\n",
      "Clp0032I Optimal objective 522 - 18 iterations time 0.002\n"
     ]
    }
   ],
   "source": [
    "m = Model(Clp.Optimizer)\n",
    "\n",
    "@variable(m, x[Astronaut,Mission] >= 0) # x[i,j] is the choose of transport modes\n",
    "\n",
    "@constraint(m, crew_two[j in Mission], sum(x[i,j] for i in Astronaut) == 2)\n",
    "\n",
    "@constraint(m, astronaut_one[i in Astronaut], sum(x[i,j] for j in Mission) == 1)\n",
    "\n",
    "@objective(m, Max, sum(Skill_astronaut[i,j]*x[j,k] for i in Skill, j in Astronaut, k in Mission))\n",
    "\n",
    "optimize!(m)\n",
    "\n",
    "println(\"The mission assignment is:\")\n",
    "println(NamedArray(value.(x[i,j] for i in Astronaut, j in Mission), (Astronaut,Mission), (\"Astronaut\",\"Mission\")))\n",
    "println(\"Maximum total score will be \", objective_value(m))"
   ]
  },
  {
   "cell_type": "markdown",
   "metadata": {},
   "source": [
    "## Here every mission has two astronauts to do. And every astronaut is arranged into only one mission. In all, this result is acceptable in general."
   ]
  },
  {
   "cell_type": "markdown",
   "metadata": {},
   "source": [
    "# Problem 4"
   ]
  },
  {
   "cell_type": "markdown",
   "metadata": {},
   "source": [
    "## Generally, this is a point to point transport problem. We can assume the transport from districts to a hub as decision variables:$x1[i,j]$, $x2[i,j]$ for hub1 and hub2, where i in district, j in equipment.\n",
    "\n",
    "## Each transportation hub must have between 350 and 500 units of safety equipment each night, means:$$350\\leq\\sum_{i=0}^{3}{{x}_{ij}}\\leq500$$\n",
    "\n",
    "## The ratio of oxygen tanks in all equipment is 49% and then:$$44\\%\\leq\\frac{\\sum_{i=District}^{}{x_{1,ij}(j=Oxygen)}}{\\sum_{i=District}^{}\\sum_{i=Equip}^{}{x_{1,ij}}}\\leq54\\%$$"
   ]
  },
  {
   "cell_type": "code",
   "execution_count": 161,
   "metadata": {},
   "outputs": [
    {
     "name": "stdout",
     "output_type": "stream",
     "text": [
      "The transport plan to hub 1 is:\n",
      "3×2 Named Array{Float64,2}\n",
      "District ╲ Equip │        :Oxygen  :Pressuresuits\n",
      "─────────────────┼───────────────────────────────\n",
      ":Finanical       │          189.0           161.0\n",
      ":Residential     │            0.0             0.0\n",
      ":Commerical      │            0.0             0.0\n",
      "The transport plan to hub 2 is:\n",
      "3×2 Named Array{Float64,2}\n",
      "District ╲ Equip │        :Oxygen  :Pressuresuits\n",
      "─────────────────┼───────────────────────────────\n",
      ":Finanical       │            0.0             0.0\n",
      ":Residential     │          189.0           161.0\n",
      ":Commerical      │            0.0             0.0\n",
      "Minimum total distance will be 665.0\n",
      "Coin0506I Presolve 6 (0) rows, 4 (-8) columns and 12 (-24) elements\n",
      "Clp0006I 0  Obj 0 Primal inf 700 (2)\n",
      "Clp0006I 4  Obj 665\n",
      "Clp0000I Optimal - objective value 665\n",
      "Coin0511I After Postsolve, objective 665, infeasibilities - dual 0 (0), primal 0 (0)\n",
      "Clp0032I Optimal objective 665 - 4 iterations time 0.002, Presolve 0.00\n"
     ]
    }
   ],
   "source": [
    "using JuMP, Clp, NamedArrays\n",
    "# create\n",
    "Equip = [:Oxygen, :Pressuresuits]\n",
    "District = [:Finanical, :Residential, :Commerical]\n",
    "Hub = [:Hub1, :Hub2]\n",
    "\n",
    "District_equip = NamedArray( [45 210; 150 250; 120 190], (District, Equip), (\"District\",\"Equip\"))\n",
    "\n",
    "District_hub = NamedArray( [1.0 2.3; 2.1 0.9; 1.5 1.1], (District, Hub), (\"District\",\"Hub\"))\n",
    "\n",
    "m = Model(Clp.Optimizer)\n",
    "\n",
    "@variable(m, x1[District,Equip] >= 0) # x1[i,j] is the transport of equipment from a district to hub1\n",
    "@variable(m, x2[District,Equip] >= 0) # x2[i,j] is the transport of equipment from a district to hub2\n",
    "\n",
    "@constraint(m, hub1_amount, 350 <= sum(x1[i,j] for i in District, j in Equip) <= 500)\n",
    "@constraint(m, hub2_amount, 350 <= sum(x2[i,j] for i in District, j in Equip) <= 500)\n",
    "\n",
    "@constraint(m, hub1_percent1, sum(x1[i,:Oxygen] for i in District) <=  0.54*sum(x1[i,j] for i in District, j in Equip))\n",
    "\n",
    "@constraint(m, hub1_percent2, 0.44*sum(x1[i,j] for i in District, j in Equip) <= sum(x1[i,:Oxygen] for i in District))\n",
    "\n",
    "@constraint(m, hub2_percent1, sum(x2[i,:Oxygen] for i in District) <=  0.54*sum(x2[i,j] for i in District, j in Equip))\n",
    "\n",
    "@constraint(m, hub2_percent2, 0.44*sum(x2[i,j] for i in District, j in Equip) <= sum(x2[i,:Oxygen] for i in District))\n",
    "\n",
    "@objective(m, Min, sum(x1[i,j]*District_hub[i,:Hub1] + x2[i,j]*District_hub[i,:Hub2] for i in District, j in Equip))\n",
    "\n",
    "optimize!(m)\n",
    "\n",
    "println(\"The transport plan to hub 1 is:\")\n",
    "println(NamedArray(value.(x1[i,j] for i in District, j in Equip), (District,Equip), (\"District\", \"Equip\")))\n",
    "println(\"The transport plan to hub 2 is:\")\n",
    "println(NamedArray(value.(x2[i,j] for i in District, j in Equip), (District,Equip), (\"District\", \"Equip\")))\n",
    "println(\"Minimum total distance will be \", objective_value(m))"
   ]
  },
  {
   "cell_type": "markdown",
   "metadata": {},
   "source": [
    "## This result has a flaw that no equipment will be transformed from Commerical to hubs. Even the total distance is minimized, this means the equipment in Commercial cannot be updated in time."
   ]
  },
  {
   "cell_type": "code",
   "execution_count": null,
   "metadata": {},
   "outputs": [],
   "source": []
  }
 ],
 "metadata": {
  "kernelspec": {
   "display_name": "Julia 1.4.2",
   "language": "julia",
   "name": "julia-1.4"
  },
  "language_info": {
   "file_extension": ".jl",
   "mimetype": "application/julia",
   "name": "julia",
   "version": "1.4.2"
  }
 },
 "nbformat": 4,
 "nbformat_minor": 4
}
