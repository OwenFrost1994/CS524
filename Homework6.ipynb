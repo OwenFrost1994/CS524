{
 "cells": [
  {
   "cell_type": "markdown",
   "metadata": {},
   "source": [
    "# Problem 1"
   ]
  },
  {
   "cell_type": "markdown",
   "metadata": {},
   "source": [
    "## Treat this problem as a set covering one, all possible trips, which are sets of farms, must be listed first. The possible subsets of farms can be calculated under the creteria that the supplies collected in one trip do not exceed the capacity of truck. Considering the fact that pick up supply from a single farm is definitely high cost, the subsets containing only one farm will not be included. The possible set of all farm subsets is:\n",
    "## $$S=\\{\\{1,2\\},\\{1,4\\},\\{2,3\\},\\{2,4\\},\\{3,4\\}\\}$$\n",
    "## $x_i$ is the binary variable that is 1 if $i$th member of $S$ is chosen; 0 otherwise."
   ]
  },
  {
   "cell_type": "code",
   "execution_count": 25,
   "metadata": {},
   "outputs": [
    {
     "name": "stdout",
     "output_type": "stream",
     "text": [
      "Academic license - for non-commercial use only\n",
      "Academic license - for non-commercial use only\n",
      "Which trips should we choose?\n",
      "set 2\n",
      "Route{1, 4}\n",
      "set 3\n",
      "Route{2, 3}\n"
     ]
    }
   ],
   "source": [
    "using JuMP, Gurobi, NamedArrays\n",
    "\n",
    "# arrays\n",
    "farms = [:F1, :F2, :F3, :F4]\n",
    "sets = [:1, :2, :3, :4, :5]\n",
    "\n",
    "S = NamedArray([:{1,2}, :{1,4}, :{2,3}, :{2,4}, :{3,4}],(sets))\n",
    "\n",
    "dist = NamedArray([0  5  12 7  15\n",
    "                   5  0  4  10 7\n",
    "                   12 4  0  14 20\n",
    "                   7  10 14 0  8],([:B, :F1, :F2, :F3],[:B, :F1, :F2, :F3, :F4]),(\"Farms\",\"Farms\"))\n",
    "\n",
    "A = NamedArray([1 1 0 0 0\n",
    "                1 0 1 1 0\n",
    "                0 0 1 0 1\n",
    "                0 1 0 1 1],(farms,sets),(\"Farms\",\"Sets\"))\n",
    "\n",
    "m = Model(Gurobi.Optimizer)\n",
    "set_optimizer_attribute(m, \"OutputFlag\", 0)\n",
    "\n",
    "# binary variable for whether we choose a subset\n",
    "@variable(m, x[sets], Bin)\n",
    "\n",
    "for i in farms\n",
    "    @constraint(m, sum(A[i,j]x[j] for j in sets ) >= 1)\n",
    "end\n",
    "\n",
    "# minimize the total number of sets\n",
    "@objective(m, Min, sum(x))\n",
    "\n",
    "optimize!(m)\n",
    "\n",
    "println(\"Which trips should we choose?\")\n",
    "for j in sets\n",
    "    if value(x[j]) == 1\n",
    "        println(\"set \", j)\n",
    "        println(\"Route\", S[j])\n",
    "    end\n",
    "end"
   ]
  },
  {
   "cell_type": "code",
   "execution_count": 28,
   "metadata": {},
   "outputs": [
    {
     "name": "stdout",
     "output_type": "stream",
     "text": [
      "Distance is:38\n"
     ]
    }
   ],
   "source": [
    "## distance is:\n",
    "println(\"Distance is:\", dist[:B,:F1] + dist[:F1,:F4] + dist[:B,:F2] + dist[:F2,:F3])"
   ]
  },
  {
   "cell_type": "markdown",
   "metadata": {},
   "source": [
    "# Problem 2"
   ]
  },
  {
   "cell_type": "code",
   "execution_count": 42,
   "metadata": {},
   "outputs": [],
   "source": [
    "using JuMP, Gurobi, NamedArrays\n",
    "\n",
    "# arrays\n",
    "bakery = [:Donuts, :Bread, :Cookies, :Scones, :Coffeecake]\n",
    "\n",
    "clean = NamedArray([0  10 6  15 9\n",
    "                    4  0  6  17 8\n",
    "                    10 11 0  20 14\n",
    "                    7  15 6  0  2\n",
    "                    5  8  7  7  0],(bakery,bakery),(\"Baked\",\"Baked\"))\n",
    "\n",
    "time = NamedArray([40,32, 50, 28, 47],(bakery))\n",
    "\n",
    "N = size(clean,1);"
   ]
  },
  {
   "cell_type": "code",
   "execution_count": 45,
   "metadata": {},
   "outputs": [
    {
     "data": {
      "text/plain": [
       "getAllSubtours (generic function with 1 method)"
      ]
     },
     "execution_count": 45,
     "metadata": {},
     "output_type": "execute_result"
    }
   ],
   "source": [
    "function getSubtour(x,start)\n",
    "    subtour = [start]\n",
    "    while true\n",
    "        j = subtour[end]\n",
    "        for k in bakery\n",
    "            if x[k,j] == 1\n",
    "                push!(subtour,k)\n",
    "                break\n",
    "            end\n",
    "        end\n",
    "        if subtour[end] == start\n",
    "            break\n",
    "        end\n",
    "    end\n",
    "    return subtour\n",
    "end\n",
    "\n",
    "function getAllSubtours(x)\n",
    "    nodesRemaining = bakery\n",
    "    subtours = []\n",
    "    while length(nodesRemaining) > 0\n",
    "        subtour = getSubtour(x,nodesRemaining[1])\n",
    "        push!(subtours, subtour)\n",
    "        nodesRemaining = setdiff(nodesRemaining,subtour)\n",
    "    end\n",
    "    return subtours\n",
    "end\n"
   ]
  },
  {
   "cell_type": "markdown",
   "metadata": {},
   "source": [
    "## MTZ reformulation"
   ]
  },
  {
   "cell_type": "code",
   "execution_count": 49,
   "metadata": {},
   "outputs": [
    {
     "name": "stdout",
     "output_type": "stream",
     "text": [
      "Academic license - for non-commercial use only\n",
      "Academic license - for non-commercial use only\n",
      "Tour: Any[[:Donuts, :Bread, :Cookies, :Scones, :Coffeecake, :Donuts]]\n",
      "Tour length: 234.0\n"
     ]
    }
   ],
   "source": [
    "m = Model(Gurobi.Optimizer)\n",
    "set_optimizer_attribute(m, \"OutputFlag\", 0)\n",
    "\n",
    "@variable(m, x[bakery,bakery], Bin)\n",
    "\n",
    "@constraint(m, c1[j in bakery], sum( x[i,j] for i in bakery ) == 1)      # one out-edge\n",
    "@constraint(m, c2[i in bakery], sum( x[i,j] for j in bakery ) == 1)      # one in-edge\n",
    "@constraint(m, c3[i in bakery], x[i,i] == 0 )                            # no self-loops\n",
    "\n",
    "@objective(m, Min, sum( x[i,j]*clean[i,j] for i in bakery, j in bakery ))   # minimize total cost\n",
    "\n",
    "# MTZ variables and constraints\n",
    "@variable(m, u[bakery])\n",
    "@constraint(m, c4[i in bakery, j in bakery[2:end]], u[i] - u[j] + N*x[i,j] <= N-1 )\n",
    "\n",
    "optimize!(m)\n",
    "xx = value.(x)\n",
    "subtours = getAllSubtours(xx) \n",
    "println(\"Tour: \", subtours)\n",
    "println(\"Tour length: \", objective_value(m) + sum(time[i] for i in bakery ))"
   ]
  },
  {
   "cell_type": "markdown",
   "metadata": {},
   "source": [
    "## subtour elimination"
   ]
  },
  {
   "cell_type": "code",
   "execution_count": 53,
   "metadata": {},
   "outputs": [
    {
     "data": {
      "text/plain": [
       "2-element Array{Any,1}:\n",
       " [:Donuts, :Bread, :Cookies, :Donuts]\n",
       " [:Scones, :Coffeecake, :Scones]"
      ]
     },
     "metadata": {},
     "output_type": "display_data"
    },
    {
     "name": "stdout",
     "output_type": "stream",
     "text": [
      "Academic license - for non-commercial use only\n",
      "Academic license - for non-commercial use only\n",
      "Tour length: 227.0\n"
     ]
    },
    {
     "data": {
      "text/plain": [
       "1-element Array{Any,1}:\n",
       " [:Donuts, :Bread, :Cookies, :Scones, :Coffeecake, :Donuts]"
      ]
     },
     "metadata": {},
     "output_type": "display_data"
    },
    {
     "name": "stdout",
     "output_type": "stream",
     "text": [
      "Tour length: 234.0\n",
      "SOLVED!\n"
     ]
    }
   ],
   "source": [
    "m = Model(Gurobi.Optimizer)\n",
    "set_optimizer_attribute(m, \"OutputFlag\", 0)\n",
    "\n",
    "@variable(m, x[bakery,bakery], Bin)\n",
    "\n",
    "@constraint(m, c1[j in bakery], sum( x[i,j] for i in bakery ) == 1)      # one out-edge\n",
    "@constraint(m, c2[i in bakery], sum( x[i,j] for j in bakery ) == 1)      # one in-edge\n",
    "@constraint(m, c3[i in bakery], x[i,i] == 0 )                            # no self-loops\n",
    "\n",
    "@objective(m, Min, sum( x[i,j]*clean[i,j] for i in bakery, j in bakery ))   # minimize total cost\n",
    "\n",
    "sols = []\n",
    "\n",
    "for iters = 1:10\n",
    "    optimize!(m)\n",
    "    # total  length of current tour\n",
    "    println(\"Tour length: \", objective_value(m) + sum(time[i] for i in bakery ))\n",
    "    xx = value.(x) # save solution\n",
    "    push!(sols,xx) # save solution\n",
    "    subtours = getAllSubtours(xx)  # get all the subtours\n",
    "    display(subtours) \n",
    "    sleep(1)\n",
    "    # get length of the subtour list\n",
    "    len = length(subtours)\n",
    "    if len == 1                    \n",
    "        # solution is just a single tour!\n",
    "        println(\"SOLVED!\")\n",
    "        break\n",
    "    else\n",
    "        for subtour in subtours\n",
    "            L = length(subtour)\n",
    "            # add constraints that cut off each subtour in the list (add two for each subtour)\n",
    "            @constraint(m, sum( x[subtour[k+1],subtour[k]] for k = 1:L-1 ) <= L-2)\n",
    "            @constraint(m, sum( x[subtour[k],subtour[k+1]] for k = 1:L-1 ) <= L-2)\n",
    "        end\n",
    "    end\n",
    "end"
   ]
  },
  {
   "cell_type": "code",
   "execution_count": null,
   "metadata": {},
   "outputs": [],
   "source": []
  }
 ],
 "metadata": {
  "kernelspec": {
   "display_name": "Julia 1.4.2",
   "language": "julia",
   "name": "julia-1.4"
  },
  "language_info": {
   "file_extension": ".jl",
   "mimetype": "application/julia",
   "name": "julia",
   "version": "1.4.2"
  }
 },
 "nbformat": 4,
 "nbformat_minor": 4
}
