{
 "cells": [
  {
   "cell_type": "markdown",
   "metadata": {},
   "source": [
    " # Problem 1"
   ]
  },
  {
   "cell_type": "markdown",
   "metadata": {},
   "source": [
    "## a)"
   ]
  },
  {
   "cell_type": "markdown",
   "metadata": {},
   "source": [
    "## Take this problem as a max flow problem with multiple sinks and draw the network and label the capacities of the arcs:"
   ]
  },
  {
   "cell_type": "markdown",
   "metadata": {},
   "source": [
    "<img src=\"Homework3Q1.bmp\">"
   ]
  },
  {
   "cell_type": "markdown",
   "metadata": {},
   "source": [
    "## b)"
   ]
  },
  {
   "cell_type": "code",
   "execution_count": 1,
   "metadata": {},
   "outputs": [
    {
     "name": "stdout",
     "output_type": "stream",
     "text": [
      "Maximum load:44.0\n",
      "Trucks used:\n",
      "A:7.0\n",
      "B:15.0\n",
      "C:9.0\n",
      "D:13.0\n",
      "Loads used:\n",
      "E:9.0\n",
      "F:6.0\n",
      "G:16.0\n",
      "H:13.0\n",
      "Loads on arcs:\n",
      "EA:0.0\n",
      "EC:9.0\n",
      "FB:6.0\n",
      "GA:7.0\n",
      "GB:9.0\n",
      "HA:0.0\n",
      "HC:0.0\n",
      "HD:13.0\n",
      "Coin0506I Presolve 0 (-8) rows, 0 (-8) columns and 0 (-16) elements\n",
      "Clp3002W Empty problem - 0 rows, 0 columns and 0 elements\n",
      "Clp0000I Optimal - objective value 44\n",
      "Coin0511I After Postsolve, objective 44, infeasibilities - dual 0 (0), primal 0 (0)\n",
      "Clp0032I Optimal objective 44 - 0 iterations time 0.002, Presolve 0.00\n"
     ]
    }
   ],
   "source": [
    "using JuMP, Clp, NamedArrays\n",
    "trucks = [:A, :B, :C, :D]\n",
    "loads = [:E, :F, :G, :H]\n",
    "arcs = [:EA, :EC, :FB, :GA, :GB, :HA, :HC, :HD]\n",
    "\n",
    "A = NamedArray( [1 0 0 1 0 1 0 0;0 0 1 0 1 0 0 0;0 1 0 0 0 0 1 0;0 0 0 0 0 0 0 1],(trucks, arcs), (\"Trucks\",\"Arcs\"))\n",
    "\n",
    "b = NamedArray( [7;15;9;13],(trucks), (\"Trucks\",\"Amount\"))\n",
    "\n",
    "C = NamedArray( [1 1 0 0 0 0 0 0;0 0 1 0 0 0 0 0;0 0 0 1 1 0 0 0;0 0 0 0 0 1 1 1],(loads, arcs), (\"Loads\",\"Arcs\"))\n",
    "\n",
    "d = NamedArray( [7,6,16,6],(loads), (\"Loads\",\"Amount\"))\n",
    "\n",
    "m = Model()\n",
    "\n",
    "@variable(m, x[arcs] >= 0)\n",
    "\n",
    "@constraint(m, truckconst[i in trucks], sum(A[i,j]*x[j] for j in arcs) <= b[i])\n",
    "\n",
    "@constraint(m, loadconst[i in loads], sum(C[i,j]*x[j] for j in arcs) >= d[i])\n",
    "\n",
    "@objective(m, Max, sum(A[i,j]*x[j] for i in trucks, j in arcs))\n",
    "\n",
    "set_optimizer(m, Clp.Optimizer)\n",
    "\n",
    "optimize!(m)\n",
    "\n",
    "println(\"Maximum load:\", objective_value(m))\n",
    "println(\"Trucks used:\")\n",
    "println(\"A:\", value.(x[:EA]) + value.(x[:GA]) + value.(x[:HA]))\n",
    "println(\"B:\", value.(x[:FB]) + value.(x[:GB]))\n",
    "println(\"C:\", value.(x[:EC]) + value.(x[:HC]))\n",
    "println(\"D:\", value.(x[:HD]))\n",
    "\n",
    "println(\"Loads used:\")\n",
    "println(\"E:\", value.(x[:EA]) + value.(x[:EC]))\n",
    "println(\"F:\", value.(x[:FB]))\n",
    "println(\"G:\", value.(x[:GA]) + value.(x[:GB]))\n",
    "println(\"H:\", value.(x[:HA]) + value.(x[:HC]) + value.(x[:HD]))\n",
    "\n",
    "println(\"Loads on arcs:\")\n",
    "println(\"EA:\", value.(x[:EA]))\n",
    "println(\"EC:\", value.(x[:EC]))\n",
    "println(\"FB:\", value.(x[:FB]))\n",
    "println(\"GA:\", value.(x[:GA]))\n",
    "println(\"GB:\", value.(x[:GB]))\n",
    "println(\"HA:\", value.(x[:HA]))\n",
    "println(\"HC:\", value.(x[:HC]))\n",
    "println(\"HD:\", value.(x[:HD]))"
   ]
  },
  {
   "cell_type": "markdown",
   "metadata": {},
   "source": [
    "## c)"
   ]
  },
  {
   "cell_type": "code",
   "execution_count": 2,
   "metadata": {},
   "outputs": [
    {
     "name": "stdout",
     "output_type": "stream",
     "text": [
      "dual for A:-1.0\n",
      "dual for B:-1.0\n",
      "dual for C:-1.0\n",
      "dual for D:-1.0\n",
      "dual for E:0.0\n",
      "dual for F:0.0\n",
      "dual for G:0.0\n",
      "dual for H:0.0\n",
      "Coin0506I Presolve 0 (-8) rows, 0 (-8) columns and 0 (-16) elements\n",
      "Clp3002W Empty problem - 0 rows, 0 columns and 0 elements\n",
      "Clp0000I Optimal - objective value 44\n",
      "Coin0511I After Postsolve, objective 44, infeasibilities - dual 0 (0), primal 0 (0)\n",
      "Clp0032I Optimal objective 44 - 0 iterations time 0.002, Presolve 0.00\n"
     ]
    }
   ],
   "source": [
    "using JuMP, Clp\n",
    "\n",
    "a = [1 0 0 1 0 1 0 0;0 0 1 0 1 0 0 0;0 1 0 0 0 0 1 0;0 0 0 0 0 0 0 1]\n",
    "\n",
    "m = Model()\n",
    "\n",
    "@variable(m, x[1:8] >= 0)\n",
    "\n",
    "@constraint(m, A, x[1] + x[4] + x[6] <= 7)\n",
    "\n",
    "@constraint(m, B, x[3] + x[5] <= 15)\n",
    "\n",
    "@constraint(m, C, x[2] + x[7] <= 9)\n",
    "\n",
    "@constraint(m, D, x[8] <= 13)\n",
    "\n",
    "@constraint(m, E, x[1] + x[2] >= 7)\n",
    "\n",
    "@constraint(m, F, x[3] >= 6)\n",
    "\n",
    "@constraint(m, G, x[4] + x[5] >= 16)\n",
    "\n",
    "@constraint(m, H, x[6] + x[7] + x[8] >= 6)\n",
    "\n",
    "@objective(m, Max, sum(a[i,j]*x[j] for i in 1:4, j in 1:8))\n",
    "\n",
    "set_optimizer(m, Clp.Optimizer)\n",
    "\n",
    "optimize!(m)\n",
    "\n",
    "println(\"dual for A:\", dual(A))\n",
    "println(\"dual for B:\", dual(B))\n",
    "println(\"dual for C:\", dual(C))\n",
    "println(\"dual for D:\", dual(D))\n",
    "println(\"dual for E:\", dual(E))\n",
    "println(\"dual for F:\", dual(F))\n",
    "println(\"dual for G:\", dual(G))\n",
    "println(\"dual for H:\", dual(H))"
   ]
  },
  {
   "cell_type": "markdown",
   "metadata": {},
   "source": [
    "## The minimum cost will be 4."
   ]
  },
  {
   "cell_type": "markdown",
   "metadata": {},
   "source": [
    " # Problem 2"
   ]
  },
  {
   "cell_type": "markdown",
   "metadata": {},
   "source": [
    "## a)"
   ]
  },
  {
   "cell_type": "markdown",
   "metadata": {},
   "source": [
    "## this problem can be illustrated as:$$ max\\ p=c^Tx$$\n",
    "## $$ s.t.Ax\\leq b $$\n",
    "## $$ Fx=g $$\n",
    "## $$ x\\geq0 $$\n",
    "## where:$x=[x_1;x_2;x_3], c=[2;1;4], A=[1,2,2], F=[2,-1,3], b=[3], g=[3]$"
   ]
  },
  {
   "cell_type": "markdown",
   "metadata": {},
   "source": [
    "## Then the dual problem is:$$ min\\ d=b^T\\lambda+g^T\\mu$$\n",
    "## $$ s.t. \\lambda\\geq0 $$\n",
    "## $$ \\mu\\ free $$\n",
    "## $$ A^T\\lambda+F^T\\mu\\geq c$$\n",
    "## because $\\lambda=[\\lambda_1], \\mu=[\\mu_1]$, this can be rewritten as:\n",
    "## $$ min\\ d=3\\lambda_1+3\\mu_1$$\n",
    "## $$ s.t. \\begin{cases} \\lambda_1\\geq0 \\\\\n",
    "\\mu_1\\ free \\\\\n",
    "1\\lambda_1+2\\mu_1\\geq 2 \\\\\n",
    "2\\lambda_1-1\\mu_1\\geq 1 \\\\\n",
    "2\\lambda_1+3\\mu_1\\geq 4\\end{cases}$$"
   ]
  },
  {
   "cell_type": "markdown",
   "metadata": {},
   "source": [
    "## Since we know for optimal solution the relation the strong condition $p^*=d^*$ holds. For the dual problem, $\\lambda_1=1,\\mu_1=1$is a feasilble solution. Then we have $p^*\\leq6$. In fact:"
   ]
  },
  {
   "cell_type": "code",
   "execution_count": 3,
   "metadata": {},
   "outputs": [
    {
     "name": "stdout",
     "output_type": "stream",
     "text": [
      "lambda_1:0.8749999999999999\n",
      "mu_1:0.75\n",
      "Minimum4.875\n",
      "Coin0506I Presolve 3 (0) rows, 2 (0) columns and 6 (0) elements\n",
      "Clp0006I 0  Obj 0 Primal inf 2.833333 (3) Dual inf 0.0299999 (1) w.o. free dual inf (0)\n",
      "Clp0006I 2  Obj 4.875\n",
      "Clp0000I Optimal - objective value 4.875\n",
      "Clp0032I Optimal objective 4.875 - 2 iterations time 0.002\n"
     ]
    }
   ],
   "source": [
    "using JuMP, Clp\n",
    "\n",
    "m = Model()\n",
    "\n",
    "@variable(m, x >= 0)\n",
    "@variable(m, y)\n",
    "\n",
    "@objective(m, Min, 3*x+3*y)\n",
    "\n",
    "@constraint(m, x + 2*y >= 2)\n",
    "\n",
    "@constraint(m, 2*x - 1*y >= 1)\n",
    "\n",
    "@constraint(m, 2*x + 3*y >= 4)\n",
    "\n",
    "set_optimizer(m, Clp.Optimizer)\n",
    "\n",
    "optimize!(m)\n",
    "\n",
    "println(\"lambda_1:\", value(x))\n",
    "println(\"mu_1:\", value(y))\n",
    "println(\"Minimum\", objective_value(m))"
   ]
  },
  {
   "cell_type": "markdown",
   "metadata": {},
   "source": [
    "## b)"
   ]
  },
  {
   "cell_type": "markdown",
   "metadata": {},
   "source": [
    "## set the decision variables for dual problem as $[y_1,y_2,y_3,y_4]$\n",
    "## $$ \\min_{y_1,y_2,y_3}\\ d=4y_1+36y_2-16y_3$$\n",
    "## $$ s.t.{y_1\\leq6\\\\\n",
    "-y_1-4y_2=-2\\\\\n",
    "6y_2-y_3\\geq4\\\\\n",
    "-y_3\\geq1}$$\n",
    "## $$ y_1 free, y_2\\geq0, y_3\\leq0 $$"
   ]
  },
  {
   "cell_type": "markdown",
   "metadata": {},
   "source": [
    "## with $x=(0,-4,\\frac{10}{3},\\frac{38}{3})$, it is easy to find that the $x_3>0$ and $x_4>0$ are satisfied. This means the $6y_2-y_3\\geq4, -y_3\\geq1$ are just equals. So we have:\n",
    "## $$ \\left[ \\begin{array} {ccc}-1&-4&0\\\\0&6&-1\\\\0&0&-1\\end{array} \\right]\\left[ \\begin{array} {c}y_1\\\\y_2\\\\y_3\\end{array} \\right]=\\left[ \\begin{array} {c}-2\\\\4\\\\1\\end{array} \\right]$$\n",
    "## So $$\\left[ \\begin{array} {c}y_1\\\\y_2\\\\y_3\\end{array} \\right]=\\left[ \\begin{array} {c}0\\\\0.5\\\\-1\\end{array} \\right]$$\n",
    "## Since the constrains of dual problem is satsified, $x=(0,-4,\\frac{10}{3},\\frac{38}{3})$ is a optimal solution."
   ]
  },
  {
   "cell_type": "markdown",
   "metadata": {},
   "source": [
    "## with $y=(0,\\frac{1}{2},-1)$, it is easy to find that the $y_2>0$ and $y_3<0$ are satisfied. This means the $-4x_2+6x_3\\leq36, -x_3-x_4\\geq-16$ are just equals. So we have:\n",
    "## $$ \\left[ \\begin{array} {cccc}1&-1&0&0\\\\0&-4&6&0\\\\0&0&-1&-1\\end{array} \\right]\\left[ \\begin{array} {c}x_1\\\\x_2\\\\x_3\\\\x_4\\end{array} \\right]=\\left[ \\begin{array} {c}4\\\\36\\\\-16\\end{array} \\right]$$\n",
    "## Also, we can find slackness in $y_1\\leq6$, which means $x_1=0$. And we have:\n",
    "## $$\\left[ \\begin{array} {c}x_1\\\\x_2\\\\x_3\\\\x_4\\end{array} \\right]=\\left[ \\begin{array} {c}0\\\\-4\\\\\\frac{10}{3}\\\\\\frac{38}{3}\\end{array} \\right]$$\n",
    "## In all, $x=(0,-4,\\frac{10}{3},\\frac{38}{3})$ is a optimal solution."
   ]
  },
  {
   "cell_type": "markdown",
   "metadata": {},
   "source": [
    " # Problem 3"
   ]
  },
  {
   "cell_type": "markdown",
   "metadata": {},
   "source": [
    "## a)"
   ]
  },
  {
   "cell_type": "code",
   "execution_count": 4,
   "metadata": {},
   "outputs": [
    {
     "name": "stdout",
     "output_type": "stream",
     "text": [
      "pandas:1866.6666666666665\n",
      "panthers:977.777777777778\n",
      "pangolins:1777.7777777777774\n",
      "penguins:0.0\n",
      "Maximum584888.8888888889\n",
      "Coin0506I Presolve 3 (0) rows, 4 (0) columns and 12 (0) elements\n",
      "Clp0006I 0  Obj 0 Dual inf 380.83786 (4)\n",
      "Clp0006I 3  Obj 584888.89\n",
      "Clp0000I Optimal - objective value 584888.89\n",
      "Clp0032I Optimal objective 584888.8889 - 3 iterations time 0.002\n"
     ]
    }
   ],
   "source": [
    "using JuMP, Clp\n",
    "\n",
    "m = Model()\n",
    "\n",
    "@variable(m, x1 >= 0)\n",
    "@variable(m, x2 >= 0)\n",
    "@variable(m, x3 >= 0)\n",
    "@variable(m, x4 >= 0)\n",
    "\n",
    "@objective(m, Max, 60*x1 + 120*x2 + 200*x3 + 300*x4)\n",
    "\n",
    "@constraint(m, 2*x1 + 3*x2 + 3*x3 + 5*x4 <= 12000)\n",
    "\n",
    "@constraint(m, 5*x1 + 5*x2 + 10*x3 + 15*x4 <= 32000)\n",
    "\n",
    "@constraint(m, 0.25*x1 + 1*x2 + 2*x3 + 3.5*x4 <= 5000)\n",
    "\n",
    "set_optimizer(m, Clp.Optimizer)\n",
    "\n",
    "optimize!(m)\n",
    "\n",
    "println(\"pandas:\", value(x1))\n",
    "println(\"panthers:\", value(x2))\n",
    "println(\"pangolins:\", value(x3))\n",
    "println(\"penguins:\", value(x4))\n",
    "println(\"Maximum\", objective_value(m))"
   ]
  },
  {
   "cell_type": "markdown",
   "metadata": {},
   "source": [
    "## set the decision variables for dual problem as $y=[y_1,y_2,y_3]$\n",
    "## $$ \\min_{y_1,y_2,y_3}\\ d=12000y_1+32000y_2+5000y_3$$\n",
    "## $$ s.t.{2y_1+5y_2+0.25y_3\\geq60\\\\\n",
    "3y_1+5y_2+1y_3\\geq120\\\\\n",
    "3y_1+10y_2+2y_3\\geq200\\\\\n",
    "5y_1+15y_2+3.5y_3\\geq300\\\\}$$\n",
    "$$ y_1\\geq0, y_2\\geq0, y_3\\geq0 $$"
   ]
  },
  {
   "cell_type": "code",
   "execution_count": 5,
   "metadata": {},
   "outputs": [
    {
     "name": "stdout",
     "output_type": "stream",
     "text": [
      "y1=13.333333333333332\n",
      "y2=3.555555555555556\n",
      "y3=62.22222222222221\n",
      "Minimum584888.8888888888\n",
      "Coin0506I Presolve 4 (0) rows, 3 (0) columns and 12 (0) elements\n",
      "Clp0006I 0  Obj 0 Primal inf 76 (4)\n",
      "Clp0006I 3  Obj 584888.89\n",
      "Clp0000I Optimal - objective value 584888.89\n",
      "Clp0032I Optimal objective 584888.8889 - 3 iterations time 0.002\n"
     ]
    }
   ],
   "source": [
    "using JuMP, Clp\n",
    "\n",
    "m = Model()\n",
    "\n",
    "@variable(m, y1 >= 0)\n",
    "@variable(m, y2 >= 0)\n",
    "@variable(m, y3 >= 0)\n",
    "\n",
    "@objective(m, Min, 12000*y1 + 32000*y2 + 5000*y3)\n",
    "\n",
    "@constraint(m, 2*y1 + 5*y2 + 0.25*y3 >= 60)\n",
    "\n",
    "@constraint(m, 3*y1 + 5*y2 + 1*y3 >= 120)\n",
    "\n",
    "@constraint(m, 3*y1 + 10*y2 + 2*y3 >= 200)\n",
    "\n",
    "@constraint(m, 5*y1 + 15*y2 + 3.5*y3 >= 300)\n",
    "\n",
    "set_optimizer(m, Clp.Optimizer)\n",
    "\n",
    "optimize!(m)\n",
    "\n",
    "println(\"y1=\", value(y1))\n",
    "println(\"y2=\", value(y2))\n",
    "println(\"y3=\", value(y3))\n",
    "println(\"Minimum\", objective_value(m))"
   ]
  },
  {
   "cell_type": "markdown",
   "metadata": {},
   "source": [
    "## b)"
   ]
  },
  {
   "cell_type": "code",
   "execution_count": 6,
   "metadata": {},
   "outputs": [
    {
     "name": "stdout",
     "output_type": "stream",
     "text": [
      "Labor used in hour:12000.0\n"
     ]
    }
   ],
   "source": [
    "x1=1866.6666666666665\n",
    "x2=977.777777777778\n",
    "x3=1777.7777777777774\n",
    "x4=0.0\n",
    "println(\"Labor used in hour:\",2*x1 + 3*x2 + 3*x3 + 5*x4)"
   ]
  },
  {
   "cell_type": "markdown",
   "metadata": {},
   "source": [
    "## Here the labor hours are fully used to reach the optimal solution. Also, we have the optimal solution for dual problem with $y1=13.333333333333332$. so the maximum amount Assemble-an-Animal should be willing to pay for an additional hour of labor is 13.3333\\$."
   ]
  },
  {
   "cell_type": "markdown",
   "metadata": {},
   "source": [
    "## c)"
   ]
  },
  {
   "cell_type": "markdown",
   "metadata": {},
   "source": [
    "## The profit per panther plushie is increased by $10$ and pangolin plushie is increased by $15$"
   ]
  },
  {
   "cell_type": "code",
   "execution_count": 7,
   "metadata": {},
   "outputs": [
    {
     "name": "stdout",
     "output_type": "stream",
     "text": [
      "pandas:1866.6666666666665\n",
      "panthers:977.777777777778\n",
      "pangolins:1777.7777777777774\n",
      "penguins:0.0\n",
      "Maximum621333.3333333333\n",
      "Coin0506I Presolve 3 (0) rows, 4 (0) columns and 12 (0) elements\n",
      "Clp0006I 0  Obj 0 Dual inf 397.20761 (4)\n",
      "Clp0006I 3  Obj 621333.33\n",
      "Clp0000I Optimal - objective value 621333.33\n",
      "Clp0032I Optimal objective 621333.3333 - 3 iterations time 0.002\n"
     ]
    }
   ],
   "source": [
    "using JuMP, Clp\n",
    "\n",
    "m = Model()\n",
    "\n",
    "@variable(m, x1 >= 0)\n",
    "@variable(m, x2 >= 0)\n",
    "@variable(m, x3 >= 0)\n",
    "@variable(m, x4 >= 0)\n",
    "\n",
    "@objective(m, Max, 60*x1 + 130*x2 + 215*x3 + 300*x4)\n",
    "\n",
    "@constraint(m, 2*x1 + 3*x2 + 3*x3 + 5*x4 <= 12000)\n",
    "\n",
    "@constraint(m, 5*x1 + 5*x2 + 10*x3 + 15*x4 <= 32000)\n",
    "\n",
    "@constraint(m, 0.25*x1 + 1*x2 + 2*x3 + 3.5*x4 <= 5000)\n",
    "\n",
    "set_optimizer(m, Clp.Optimizer)\n",
    "\n",
    "optimize!(m)\n",
    "\n",
    "println(\"pandas:\", value(x1))\n",
    "println(\"panthers:\", value(x2))\n",
    "println(\"pangolins:\", value(x3))\n",
    "println(\"penguins:\", value(x4))\n",
    "println(\"Maximum\", objective_value(m))"
   ]
  },
  {
   "cell_type": "markdown",
   "metadata": {},
   "source": [
    "## old cases without increase in profit:\n",
    "## pandas:1866.6666666666665\n",
    "## panthers:977.777777777778\n",
    "## pangolins:1777.7777777777774\n",
    "## penguins:0.0"
   ]
  },
  {
   "cell_type": "code",
   "execution_count": 8,
   "metadata": {},
   "outputs": [
    {
     "name": "stdout",
     "output_type": "stream",
     "text": [
      "y1=14.999999999999998\n",
      "y2=2.333333333333334\n",
      "y3=73.33333333333331\n",
      "Minimum621333.3333333333\n",
      "Coin0506I Presolve 4 (0) rows, 3 (0) columns and 12 (0) elements\n",
      "Clp0006I 0  Obj 0 Primal inf 79.5 (4)\n",
      "Clp0006I 3  Obj 621333.33\n",
      "Clp0000I Optimal - objective value 621333.33\n",
      "Clp0032I Optimal objective 621333.3333 - 3 iterations time 0.002\n"
     ]
    }
   ],
   "source": [
    "using JuMP, Clp\n",
    "\n",
    "m = Model()\n",
    "\n",
    "@variable(m, y1 >= 0)\n",
    "@variable(m, y2 >= 0)\n",
    "@variable(m, y3 >= 0)\n",
    "\n",
    "@objective(m, Min, 12000*y1 + 32000*y2 + 5000*y3)\n",
    "\n",
    "@constraint(m, 2*y1 + 5*y2 + 0.25*y3 >= 60)\n",
    "\n",
    "@constraint(m, 3*y1 + 5*y2 + 1*y3 >= 130)\n",
    "\n",
    "@constraint(m, 3*y1 + 10*y2 + 2*y3 >= 215)\n",
    "\n",
    "@constraint(m, 5*y1 + 15*y2 + 3.5*y3 >= 300)\n",
    "\n",
    "set_optimizer(m, Clp.Optimizer)\n",
    "\n",
    "optimize!(m)\n",
    "\n",
    "println(\"y1=\", value(y1))\n",
    "println(\"y2=\", value(y2))\n",
    "println(\"y3=\", value(y3))\n",
    "println(\"Minimum\", objective_value(m))"
   ]
  },
  {
   "cell_type": "markdown",
   "metadata": {},
   "source": [
    "## Summarizing the above calculation, we have the following form of $z^*_{NEW}$:\n",
    "## $$z^*_{NEW}\\geq584888.89$$"
   ]
  },
  {
   "cell_type": "markdown",
   "metadata": {},
   "source": [
    "## d)"
   ]
  },
  {
   "cell_type": "markdown",
   "metadata": {},
   "source": [
    "## The labor availability is decreased by 1000 hours, but the raw material availability is increased by 4000 square feet"
   ]
  },
  {
   "cell_type": "code",
   "execution_count": 9,
   "metadata": {},
   "outputs": [
    {
     "name": "stdout",
     "output_type": "stream",
     "text": [
      "pandas:2153.8461538461543\n",
      "panthers:0.0\n",
      "pangolins:2230.769230769231\n",
      "penguins:0.0\n",
      "Maximum575384.6153846155\n",
      "Coin0506I Presolve 3 (0) rows, 4 (0) columns and 12 (0) elements\n",
      "Clp0006I 0  Obj 0 Dual inf 380.83786 (4)\n",
      "Clp0006I 2  Obj 575384.62\n",
      "Clp0000I Optimal - objective value 575384.62\n",
      "Clp0032I Optimal objective 575384.6154 - 2 iterations time 0.002\n"
     ]
    }
   ],
   "source": [
    "using JuMP, Clp\n",
    "\n",
    "m = Model()\n",
    "\n",
    "@variable(m, x1 >= 0)\n",
    "@variable(m, x2 >= 0)\n",
    "@variable(m, x3 >= 0)\n",
    "@variable(m, x4 >= 0)\n",
    "\n",
    "@objective(m, Max, 60*x1 + 120*x2 + 200*x3 + 300*x4)\n",
    "\n",
    "@constraint(m, 2*x1 + 3*x2 + 3*x3 + 5*x4 <= 11000)\n",
    "\n",
    "@constraint(m, 5*x1 + 5*x2 + 10*x3 + 15*x4 <= 36000)\n",
    "\n",
    "@constraint(m, 0.25*x1 + 1*x2 + 2*x3 + 3.5*x4 <= 5000)\n",
    "\n",
    "set_optimizer(m, Clp.Optimizer)\n",
    "\n",
    "optimize!(m)\n",
    "\n",
    "println(\"pandas:\", value(x1))\n",
    "println(\"panthers:\", value(x2))\n",
    "println(\"pangolins:\", value(x3))\n",
    "println(\"penguins:\", value(x4))\n",
    "println(\"Maximum\", objective_value(m))"
   ]
  },
  {
   "cell_type": "code",
   "execution_count": 10,
   "metadata": {},
   "outputs": [
    {
     "name": "stdout",
     "output_type": "stream",
     "text": [
      "y1=21.538461538461537\n",
      "y2=0.0\n",
      "y3=67.69230769230768\n",
      "Minimum575384.6153846153\n",
      "Coin0506I Presolve 4 (0) rows, 3 (0) columns and 12 (0) elements\n",
      "Clp0006I 0  Obj 0 Primal inf 76 (4)\n",
      "Clp0006I 3  Obj 575384.62\n",
      "Clp0000I Optimal - objective value 575384.62\n",
      "Clp0032I Optimal objective 575384.6154 - 3 iterations time 0.002\n"
     ]
    }
   ],
   "source": [
    "using JuMP, Clp\n",
    "\n",
    "m = Model()\n",
    "\n",
    "@variable(m, y1 >= 0)\n",
    "@variable(m, y2 >= 0)\n",
    "@variable(m, y3 >= 0)\n",
    "\n",
    "@objective(m, Min, 11000*y1 + 36000*y2 + 5000*y3)\n",
    "\n",
    "@constraint(m, 2*y1 + 5*y2 + 0.25*y3 >= 60)\n",
    "\n",
    "@constraint(m, 3*y1 + 5*y2 + 1*y3 >= 120)\n",
    "\n",
    "@constraint(m, 3*y1 + 10*y2 + 2*y3 >= 200)\n",
    "\n",
    "@constraint(m, 5*y1 + 15*y2 + 3.5*y3 >= 300)\n",
    "\n",
    "set_optimizer(m, Clp.Optimizer)\n",
    "\n",
    "optimize!(m)\n",
    "\n",
    "println(\"y1=\", value(y1))\n",
    "println(\"y2=\", value(y2))\n",
    "println(\"y3=\", value(y3))\n",
    "println(\"Minimum\", objective_value(m))"
   ]
  },
  {
   "cell_type": "markdown",
   "metadata": {},
   "source": [
    "## Summarizing the above calculation, we have the following form of $z^*_{NEW}$:\n",
    "## $$z^*_{NEW}\\leq584888.89$$"
   ]
  },
  {
   "cell_type": "code",
   "execution_count": null,
   "metadata": {},
   "outputs": [],
   "source": []
  }
 ],
 "metadata": {
  "kernelspec": {
   "display_name": "Julia 1.4.2",
   "language": "julia",
   "name": "julia-1.4"
  },
  "language_info": {
   "file_extension": ".jl",
   "mimetype": "application/julia",
   "name": "julia",
   "version": "1.4.2"
  }
 },
 "nbformat": 4,
 "nbformat_minor": 4
}
