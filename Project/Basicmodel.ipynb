{
 "cells": [
  {
   "cell_type": "code",
   "execution_count": null,
   "metadata": {},
   "outputs": [],
   "source": [
    "using JuMP, Clp, NamedArrays\n",
    "states = [:AZ, :CA, :NM, :TX]\n",
    "arcs = [:AZ_AZ, :AZ_CA, :AZ_NM, :AZ_TX, :CA_AZ, :CA_CA, :CA_NM, :CA_TX,\n",
    "        :NM_AZ, :NM_CA, :NM_NM, :NM_TX, :TX_AZ, :TX_CA, :TX_NM, :TX_TX]\n"
   ]
  }
 ],
 "metadata": {
  "kernelspec": {
   "display_name": "Julia 1.4.2",
   "language": "julia",
   "name": "julia-1.4"
  },
  "language_info": {
   "file_extension": ".jl",
   "mimetype": "application/julia",
   "name": "julia",
   "version": "1.4.2"
  }
 },
 "nbformat": 4,
 "nbformat_minor": 4
}
