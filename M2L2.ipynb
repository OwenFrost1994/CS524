{
 "cells": [
  {
   "cell_type": "code",
   "execution_count": 3,
   "metadata": {},
   "outputs": [],
   "source": [
    "using JuMP, Clp\n",
    "\n",
    "m = Model()\n",
    "\n",
    "@variable(m, ft >= 0)\n",
    "@variable(m, st >= 0)\n",
    "\n",
    "@objective(m, Max, 12*ft + 9*st)\n",
    "\n",
    "@constraint(m, wood_con,  4*ft + 2*st <= 4800)\n",
    "\n",
    "@constraint(m, plaque_con,  ft + st <= 1750)\n",
    "\n",
    "@constraint(m, brass_football_con, ft <= 1000)\n",
    "@constraint(m, brass_soccerball_con, st <= 1500);"
   ]
  },
  {
   "cell_type": "code",
   "execution_count": 5,
   "metadata": {},
   "outputs": [
    {
     "name": "stdout",
     "output_type": "stream",
     "text": [
      "Time used by Clp:\n",
      " 19.359283 seconds (45.15 M allocations: 2.226 GiB, 8.18% gc time)\n",
      "Build650.0footbal trophies.\n",
      "Build1100.0footbal trophies.\n",
      "Total profit will be $17700.0\n",
      "Coin0506I Presolve 2 (-2) rows, 2 (0) columns and 4 (-2) elements\n",
      "Clp0006I 0  Obj -0 Dual inf 20.999998 (2)\n",
      "Clp0006I 2  Obj 17700\n",
      "Clp0000I Optimal - objective value 17700\n",
      "Coin0511I After Postsolve, objective 17700, infeasibilities - dual 0 (0), primal 0 (0)\n",
      "Clp0032I Optimal objective 17700 - 2 iterations time 0.002, Presolve 0.00\n"
     ]
    }
   ],
   "source": [
    "println(\"Time used by Clp:\")\n",
    "\n",
    "set_optimizer(m, Clp.Optimizer)\n",
    "\n",
    "@time(optimize!(m))\n",
    "\n",
    "println(\"Build\", value(ft), \"footbal trophies.\")\n",
    "println(\"Build\", value(st), \"footbal trophies.\")\n",
    "println(\"Total profit will be \\$\", objective_value(m))"
   ]
  },
  {
   "cell_type": "code",
   "execution_count": 7,
   "metadata": {},
   "outputs": [
    {
     "name": "stderr",
     "output_type": "stream",
     "text": [
      "┌ Info: Precompiling SCS [c946c3f1-0d1f-5ce8-9dea-7daa1f7e2d13]\n",
      "└ @ Base loading.jl:1260\n"
     ]
    },
    {
     "name": "stdout",
     "output_type": "stream",
     "text": [
      "Time used by SCS:\n",
      "  9.928573 seconds (18.15 M allocations: 958.965 MiB, 3.79% gc time)\n",
      "Build649.99994914595footbal trophies.\n",
      "Build1100.0001526142614footbal trophies.\n",
      "Total profit will be $17700.000763279753\n",
      "----------------------------------------------------------------------------\n",
      "\tSCS v2.1.1 - Splitting Conic Solver\n",
      "\t(c) Brendan O'Donoghue, Stanford University, 2012\n",
      "----------------------------------------------------------------------------\n",
      "Lin-sys: sparse-indirect, nnz in A = 8, CG tol ~ 1/iter^(2.00)\n",
      "eps = 1.00e-05, alpha = 1.50, max_iters = 5000, normalize = 1, scale = 1.00\n",
      "acceleration_lookback = 10, rho_x = 1.00e-03\n",
      "Variables n = 2, constraints m = 6\n",
      "Cones:\tlinear vars: 6\n",
      "Setup time: 5.04e-05s\n",
      "----------------------------------------------------------------------------\n",
      " Iter | pri res | dua res | rel gap | pri obj | dua obj | kap/tau | time (s)\n",
      "----------------------------------------------------------------------------\n",
      "     0| 2.40e+19  1.03e+19  3.83e-01 -4.24e+23 -1.89e+23  7.75e+21  4.23e-05 \n",
      "    20| 3.07e-08  1.50e-07  1.04e-08 -1.77e+04 -1.77e+04  8.46e-14  5.71e-02 \n",
      "----------------------------------------------------------------------------\n",
      "Status: Solved\n",
      "Timing: Solve time: 5.71e-02s\n",
      "\tLin-sys: avg # CG iterations: 1.52, avg solve time: 7.48e-07s\n",
      "\tCones: avg projection time: 9.84e-08s\n",
      "\tAcceleration: avg step time: 2.72e-03s\n",
      "----------------------------------------------------------------------------\n",
      "Error metrics:\n",
      "dist(s, K) = 6.4948e-14, dist(y, K*) = 0.0000e+00, s'y/|s||y| = 1.0127e-16\n",
      "primal res: |Ax + s - b|_2 / (1 + |b|_2) = 3.0681e-08\n",
      "dual res:   |A'y + c|_2 / (1 + |c|_2) = 1.4965e-07\n",
      "rel gap:    |c'x + b'y| / (1 + |c'x| + |b'y|) = 1.0413e-08\n",
      "----------------------------------------------------------------------------\n",
      "c'x = -17700.0008, -b'y = -17700.0004\n",
      "============================================================================\n"
     ]
    }
   ],
   "source": [
    "using SCS\n",
    "\n",
    "println(\"Time used by SCS:\")\n",
    "\n",
    "set_optimizer(m, SCS.Optimizer)\n",
    "\n",
    "@time(optimize!(m))\n",
    "\n",
    "println(\"Build\", value(ft), \"footbal trophies.\")\n",
    "println(\"Build\", value(st), \"footbal trophies.\")\n",
    "println(\"Total profit will be \\$\", objective_value(m))"
   ]
  },
  {
   "cell_type": "code",
   "execution_count": null,
   "metadata": {},
   "outputs": [],
   "source": []
  }
 ],
 "metadata": {
  "kernelspec": {
   "display_name": "Julia 1.4.2",
   "language": "julia",
   "name": "julia-1.4"
  },
  "language_info": {
   "file_extension": ".jl",
   "mimetype": "application/julia",
   "name": "julia",
   "version": "1.4.2"
  }
 },
 "nbformat": 4,
 "nbformat_minor": 4
}
